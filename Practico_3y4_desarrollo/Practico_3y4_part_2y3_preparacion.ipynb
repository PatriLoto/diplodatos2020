{
  "nbformat": 4,
  "nbformat_minor": 0,
  "metadata": {
    "kernelspec": {
      "display_name": "Python 3.7.6 64-bit ('diplo': venv)",
      "language": "python",
      "name": "python37664bitdiplovenvc8f1cc3d26344ed08febef30f9915ee6"
    },
    "language_info": {
      "codemirror_mode": {
        "name": "ipython",
        "version": 3
      },
      "file_extension": ".py",
      "mimetype": "text/x-python",
      "name": "python",
      "nbconvert_exporter": "python",
      "pygments_lexer": "ipython3",
      "version": "3.8.5"
    },
    "colab": {
      "name": "Practico_3y4_part_2y3_preparacion.ipynb",
      "provenance": [],
      "collapsed_sections": []
    }
  },
  "cells": [
    {
      "cell_type": "markdown",
      "metadata": {
        "id": "0yb32VZbqmTn",
        "colab_type": "text"
      },
      "source": [
        "# Preparación y curación de los datos"
      ]
    },
    {
      "cell_type": "markdown",
      "metadata": {
        "id": "b1jKRgIVqmTo",
        "colab_type": "text"
      },
      "source": [
        "---\n",
        "## Convenciones\n",
        "\n",
        "### Dataframes principales\n",
        "\n",
        "`msg_df` dataframe de mensajes\n",
        "\n",
        "`md_df` dataframe de metadata\n",
        "\n",
        "`agg_msg_df` dataframe de mensajes totalizado\n",
        "\n",
        "`res_df` dataframe resultante del merge del dataframe de metadata y el dataframe de mensajes totalizado\n",
        "\n",
        "### Prefijos de columnas nuevas\n",
        "\n",
        "`n_` cantidad count\n",
        "\n",
        "`n_words` cantidad de palabras\n",
        "\n",
        "`avg_` promedio\n",
        "\n",
        "---\n"
      ]
    },
    {
      "cell_type": "markdown",
      "metadata": {
        "id": "hhOU71v5qmTp",
        "colab_type": "text"
      },
      "source": [
        "## Imports"
      ]
    },
    {
      "cell_type": "code",
      "metadata": {
        "id": "2VMwVmenqmTq",
        "colab_type": "code",
        "colab": {}
      },
      "source": [
        "import os\n",
        "import pandas as pd\n",
        "import numpy as np\n",
        "import matplotlib.pyplot as plt\n",
        "import math\n",
        "\n",
        "from ast import literal_eval\n",
        "from collections import Counter\n",
        "\n",
        "import re\n",
        "\n",
        "from type_to_fix import T2F"
      ],
      "execution_count": null,
      "outputs": []
    },
    {
      "cell_type": "markdown",
      "metadata": {
        "id": "bOubraMUqmTw",
        "colab_type": "text"
      },
      "source": [
        "## Columnas de la metadata a incluir en el resultado\n",
        "\n",
        "**Nota:**\n",
        "*Incluidas en la notebook para que sean facilmente \"comentables\"*"
      ]
    },
    {
      "cell_type": "code",
      "metadata": {
        "id": "0Zpv7jBOqmTw",
        "colab_type": "code",
        "colab": {}
      },
      "source": [
        "C2K = list()\n",
        "C2K.append('session_id')\n",
        "C2K.append('tutor_id')\n",
        "C2K.append('student_id')\n",
        "C2K.append('timestamp')\n",
        "C2K.append('feedback_score')\n",
        "C2K.append('wait_time')\n",
        "C2K.append('ended_by_reason')\n",
        "C2K.append('session_category')\n",
        "C2K.append('consolidated_session_category')\n",
        "C2K.append('student_complained')\n",
        "C2K.append('student_complaint_clarity')\n",
        "C2K.append('student_complaint_speed')\n",
        "C2K.append('student_complaint_subject')\n",
        "C2K.append('student_complaint_other')\n",
        "C2K.append('session_tag_cheating')\n",
        "C2K.append('session_tag_inappropriate')\n",
        "C2K.append('session_tag_other_subject')\n",
        "C2K.append('session_tag_no_material')\n",
        "C2K.append('session_tag_student_left')\n",
        "C2K.append('session_tag_student_not_engaging')\n",
        "C2K.append('session_tag_used_whiteboard')\n",
        "C2K.append('student_rating')\n",
        "C2K.append('length_of_session')\n",
        "C2K.append('avg_tutor_response_time')\n",
        "C2K.append('max_tutor_response_time')\n",
        "C2K.append('subject')\n",
        "C2K.append('subtopic')\n",
        "# C2K.append('rubric_version')\n",
        "C2K.append('tutor_gender')\n",
        "C2K.append('tutor_international_name')\n",
        "C2K.append('tutor_fired')\n",
        "C2K.append('tutor_math_exam_score')\n",
        "C2K.append('tutor_physics_exam_score')\n",
        "C2K.append('tutor_chemistry_exam_score')\n",
        "C2K.append('tutor_last_sign_in_country')\n",
        "C2K.append('tutor_age')"
      ],
      "execution_count": null,
      "outputs": []
    },
    {
      "cell_type": "markdown",
      "metadata": {
        "id": "d_xpRhWZqmT0",
        "colab_type": "text"
      },
      "source": [
        "## Carga de archivos CSV de origen\n",
        "\n",
        "**Nota:**\n",
        "*Descomentar el archivo de mensajes necesario*"
      ]
    },
    {
      "cell_type": "code",
      "metadata": {
        "id": "u1khGf8qqmT1",
        "colab_type": "code",
        "colab": {},
        "outputId": "59908add-3940-48f9-95df-7f4ebe239b93"
      },
      "source": [
        "data_dir = os.path.join('..', 'dataset')\n",
        "\n",
        "# dataset de mensajes\n",
        "msg_data_file_name = 'dev_yup_messages_preprocessed.csv'\n",
        "#msg_data_file_name = 'train_yup_messages_preprocessed.csv'\n",
        "#msg_data_file_name = 'test_yup_messages_preprocessed.csv'\n",
        "#msg_data_file_name = 'yup_messages_preprocessed.csv'\n",
        "\n",
        "msg_full_data_file_name = os.path.join(data_dir, msg_data_file_name)\n",
        "msg_df = pd.read_csv(msg_full_data_file_name)\n",
        "msg_df = msg_df.astype({'created_at': 'datetime64[ns, UTC]'})\n",
        "\n",
        "# dataset de metadata\n",
        "md_data_file_name = 'datadump-20150801-20171219.csv'\n",
        "md_full_data_file_name = os.path.join(data_dir, md_data_file_name)\n",
        "md_df = pd.read_csv(md_full_data_file_name, low_memory=False)\n",
        "\n",
        "# dataset de metadata\n",
        "md_df.columns = [column.strip() for column in md_df.columns]\n",
        "md_df = md_df[C2K]\n",
        "md_df = md_df.astype(T2F)\n",
        "\n",
        "# Caracterización del dataset de mensajes\n",
        "print ('\\nDimensiones del dataset de mensajes')\n",
        "print ('Filas: {}'.format(msg_df.shape[0]))\n",
        "print ('Columnas: {}'.format(msg_df.shape[1]))\n",
        "print ('Cantidad de sesiones: ', msg_df['session_id'].nunique())\n",
        "print ('Cantidad de turnos: {}'.format(msg_df.shape[0]))\n",
        "print ('Cantidad de turnos del tutor: {}'.format(len(msg_df[msg_df.sent_from=='tutor'])))\n",
        "print ('Cantidad de turnos del estudiante: {}'.format(len(msg_df[msg_df.sent_from=='student'])))\n",
        "\n",
        "# Caracterización del dataset de metadata\n",
        "print ('\\nDimensiones del dataset de metadata')\n",
        "print ('Filas: {}'.format(md_df.shape[0]))\n",
        "print ('Columnas: {}'.format(md_df.shape[1]))\n",
        "print ('Cantidad de sesiones: ', md_df['session_id'].nunique())"
      ],
      "execution_count": null,
      "outputs": [
        {
          "output_type": "stream",
          "text": [
            "\n",
            "Dimensiones del dataset de mensajes\n",
            "Filas: 234375\n",
            "Columnas: 6\n",
            "Cantidad de sesiones:  3851\n",
            "Cantidad de turnos: 234375\n",
            "Cantidad de turnos del tutor: 120536\n",
            "Cantidad de turnos del estudiante: 89706\n",
            "\n",
            "Dimensiones del dataset de metadata\n",
            "Filas: 63265\n",
            "Columnas: 35\n",
            "Cantidad de sesiones:  63265\n"
          ],
          "name": "stdout"
        }
      ]
    },
    {
      "cell_type": "markdown",
      "metadata": {
        "id": "WtHpBiHXqmT5",
        "colab_type": "text"
      },
      "source": [
        "## Cálculo de la longitud de los mensajes y features derivadas"
      ]
    },
    {
      "cell_type": "code",
      "metadata": {
        "id": "Y7qH1wM9qmT6",
        "colab_type": "code",
        "colab": {}
      },
      "source": [
        "# Cálculo de las longitudes de los mensajes (cantidad de palabas)\n",
        "\n",
        "msg_df['tokens'] = msg_df.text.apply(lambda x: literal_eval(x))\n",
        "msg_df['n_words'] = msg_df.tokens.apply(lambda x: len(x))"
      ],
      "execution_count": null,
      "outputs": []
    },
    {
      "cell_type": "code",
      "metadata": {
        "id": "RtS7TD3VqmT9",
        "colab_type": "code",
        "colab": {}
      },
      "source": [
        "# Número de palabras tutor y estudiante\n",
        "\n",
        "agg_tutor_msg_df = msg_df[msg_df['sent_from']=='tutor'].groupby('session_id').agg(\n",
        "    avg_words_tutor = ('n_words', np.mean),\n",
        "    n_words_tutor = ('n_words', sum),\n",
        "    n_msg_tutor = ('sent_from', lambda x: x.eq('tutor').sum())\n",
        "    \n",
        ")\n",
        "agg_student_msg_df = msg_df[msg_df['sent_from']=='student'].groupby('session_id').agg(\n",
        "    avg_words_student = ('n_words', np.mean),\n",
        "    n_words_student = ('n_words', sum),\n",
        "    n_msg_student = ('sent_from', lambda x: x.eq('student').sum())\n",
        "    \n",
        ")"
      ],
      "execution_count": null,
      "outputs": []
    },
    {
      "cell_type": "markdown",
      "metadata": {
        "id": "JjovAg47qmUB",
        "colab_type": "text"
      },
      "source": [
        "## Otras agregaciones del dataset de mensajes"
      ]
    },
    {
      "cell_type": "code",
      "metadata": {
        "id": "Viw7dMXCqmUB",
        "colab_type": "code",
        "colab": {}
      },
      "source": [
        "# Otras agregaciones del dataset de mensajes \n",
        "agg_msg_df = msg_df.groupby('session_id').agg(\n",
        "        # started =('created_at', min),\n",
        "        # ended =('created_at', max),\n",
        "        duration = ('created_at', lambda x: (max(x) - min(x))),\n",
        "        n_msg_bot = ('sent_from', lambda x: x.eq('bot').sum()),\n",
        "        n_msg_system = ('sent_from', lambda x: x.isin(list(['system alert', 'system info', 'system warn'])).sum()),\n",
        "        n_msg_content_text = ('content_type', lambda x: x.eq('text').sum()),\n",
        "        n_msg_content_image = ('content_type', lambda x: x.eq('image').sum()),\n",
        ")"
      ],
      "execution_count": null,
      "outputs": []
    },
    {
      "cell_type": "code",
      "metadata": {
        "id": "02urpSYMqmUH",
        "colab_type": "code",
        "colab": {},
        "outputId": "81b390e6-f5e1-4cd8-9262-f7f898dd1422"
      },
      "source": [
        "print(agg_tutor_msg_df.shape)\n",
        "print(agg_student_msg_df.shape)\n",
        "print(agg_msg_df.shape)"
      ],
      "execution_count": null,
      "outputs": [
        {
          "output_type": "stream",
          "text": [
            "(3338, 3)\n",
            "(3767, 3)\n",
            "(3851, 5)\n"
          ],
          "name": "stdout"
        }
      ]
    },
    {
      "cell_type": "markdown",
      "metadata": {
        "id": "7PeSsREDqmUK",
        "colab_type": "text"
      },
      "source": [
        "## Unión de los dataframes\n",
        "\n",
        "*A las métricas que no tienen valores en el left join se les asigna 0*"
      ]
    },
    {
      "cell_type": "code",
      "metadata": {
        "id": "U0JX8k-DqmUL",
        "colab_type": "code",
        "colab": {}
      },
      "source": [
        "# Joins\n",
        "res_df = pd.merge(md_df, agg_msg_df, on=[\"session_id\", \"session_id\"])\n",
        "res_df = pd.merge(res_df, agg_tutor_msg_df, how=\"left\", on=[\"session_id\", \"session_id\"])\n",
        "res_df = pd.merge(res_df, agg_student_msg_df, how=\"left\", on=[\"session_id\", \"session_id\"])\n",
        "\n",
        "# Llenar los NAN producto del left join con ceros\n",
        "res_df['avg_words_tutor'] = res_df['avg_words_tutor'].fillna(0)\n",
        "res_df['n_words_tutor'] = res_df['n_words_tutor'].fillna(0)\n",
        "res_df['n_msg_tutor'] = res_df['n_msg_tutor'].fillna(0)\n",
        "\n",
        "res_df['avg_words_student'] = res_df['avg_words_student'].fillna(0)\n",
        "res_df['n_words_student'] = res_df['n_words_student'].fillna(0)\n",
        "res_df['n_msg_student'] = res_df['n_msg_student'].fillna(0)"
      ],
      "execution_count": null,
      "outputs": []
    },
    {
      "cell_type": "markdown",
      "metadata": {
        "id": "r_wKZ4tJqmUO",
        "colab_type": "text"
      },
      "source": [
        "## Caracterización de la variable `student_rating` a `student_rating_cat`"
      ]
    },
    {
      "cell_type": "code",
      "metadata": {
        "id": "VFw5VOIOqmUP",
        "colab_type": "code",
        "colab": {},
        "outputId": "dd039163-098b-428e-a525-e6ffaeef084d"
      },
      "source": [
        "# Categorización de la variable student_rating\n",
        "\n",
        "def student_rating_category(x):\n",
        "    \n",
        "    if x <= 2:\n",
        "        return 0\n",
        "    \n",
        "    if x >= 4:\n",
        "        return 1\n",
        "\n",
        "    return 'neutra'\n",
        "\n",
        "# Eliminamos las filas nulas\n",
        "res_df = res_df.dropna(subset=['student_rating'])\n",
        "\n",
        "# Categorización de la variable numérica\n",
        "res_df['student_rating_cat'] = res_df.student_rating.apply(student_rating_category)\n",
        "\n",
        "# Remoción de las filas con calificación neutra\n",
        "print ('Remoción de {} sesiones calificadas como neutras'.format(len(res_df[res_df['student_rating_cat'] == 'neutra'])))\n",
        "res_df = res_df[res_df['student_rating_cat'] != 'neutra']"
      ],
      "execution_count": null,
      "outputs": [
        {
          "output_type": "stream",
          "text": [
            "Remoción de 100 sesiones calificadas como neutras\n"
          ],
          "name": "stdout"
        }
      ]
    },
    {
      "cell_type": "code",
      "metadata": {
        "id": "NJi1MbTZqmUS",
        "colab_type": "code",
        "colab": {},
        "outputId": "18df2939-00df-4247-b9eb-2d15cf807bc7"
      },
      "source": [
        "# Caracterización del dataset combinado\n",
        "print ('\\nDimensiones del dataset combinado')\n",
        "print ('Filas: {}'.format(res_df.shape[0]))\n",
        "print ('Columnas: {}'.format(res_df.shape[1]))\n",
        "print ('Cantidad de sesiones: ', res_df['session_id'].nunique())"
      ],
      "execution_count": null,
      "outputs": [
        {
          "output_type": "stream",
          "text": [
            "\n",
            "Dimensiones del dataset combinado\n",
            "Filas: 2645\n",
            "Columnas: 47\n",
            "Cantidad de sesiones:  2645\n"
          ],
          "name": "stdout"
        }
      ]
    },
    {
      "cell_type": "markdown",
      "metadata": {
        "id": "9qQqiHbzqmUV",
        "colab_type": "text"
      },
      "source": [
        "## Drop de columnas que no se van a usar"
      ]
    },
    {
      "cell_type": "code",
      "metadata": {
        "id": "eh9uifluqmUV",
        "colab_type": "code",
        "colab": {}
      },
      "source": [
        "columns_to_keep = list()\n",
        "columns_to_keep.append('tutor_id')\n",
        "columns_to_keep.append('tutor_age')\n",
        "columns_to_keep.append('session_tag_no_material')\n",
        "columns_to_keep.append('session_tag_student_left')\n",
        "columns_to_keep.append('session_tag_student_not_engaging')\n",
        "columns_to_keep.append('student_complained')\n",
        "columns_to_keep.append('student_complaint_clarity')\n",
        "columns_to_keep.append('student_complaint_speed')\n",
        "columns_to_keep.append('student_complaint_subject')\n",
        "columns_to_keep.append('student_complaint_other')\n",
        "columns_to_keep.append('session_tag_cheating')\n",
        "columns_to_keep.append('session_tag_inappropriate')\n",
        "columns_to_keep.append('session_tag_other_subject')\n",
        "columns_to_keep.append('avg_words_tutor')\n",
        "columns_to_keep.append('n_words_tutor')\n",
        "columns_to_keep.append('n_msg_tutor')\n",
        "columns_to_keep.append('avg_words_student')\n",
        "columns_to_keep.append('n_words_student')\n",
        "columns_to_keep.append('n_msg_student')\n",
        "columns_to_keep.append('student_rating_cat')\n",
        "\n",
        "final_df = res_df[columns_to_keep]\n",
        "\n",
        "final_df = final_df.astype({'student_rating_cat':int})\n",
        "\n",
        "mean_tutor_age = final_df.tutor_age.mean().astype(int)\n",
        "for i in final_df[final_df.tutor_age.isna()].index:\n",
        "    final_df.loc[i, ['tutor_age']] = mean_tutor_age"
      ],
      "execution_count": null,
      "outputs": []
    },
    {
      "cell_type": "markdown",
      "metadata": {
        "id": "cIisEMROqmUY",
        "colab_type": "text"
      },
      "source": [
        "## Guardado del archivo de resultados"
      ]
    },
    {
      "cell_type": "code",
      "metadata": {
        "id": "SwQeT_TqqmUZ",
        "colab_type": "code",
        "colab": {}
      },
      "source": [
        "# Salva archivo csv con el prefijo del archivo procesado\n",
        "curated_data_file_name = msg_data_file_name.split('_')[0] + '_curated_data.csv'\n",
        "curated_full_data_file_name = os.path.join(data_dir, curated_data_file_name)\n",
        "final_df.to_csv(curated_full_data_file_name, index=False)"
      ],
      "execution_count": null,
      "outputs": []
    },
    {
      "cell_type": "markdown",
      "metadata": {
        "id": "Wd__0B7_qmUc",
        "colab_type": "text"
      },
      "source": [
        "### Información del conjunto de datos generado"
      ]
    },
    {
      "cell_type": "code",
      "metadata": {
        "id": "BaA9vZqSqmUd",
        "colab_type": "code",
        "colab": {},
        "outputId": "c99ab1a6-6ae7-4250-f33c-4c5a05f88efc"
      },
      "source": [
        "final_df.info()"
      ],
      "execution_count": null,
      "outputs": [
        {
          "output_type": "stream",
          "text": [
            "<class 'pandas.core.frame.DataFrame'>\n",
            "Int64Index: 2645 entries, 1 to 3850\n",
            "Data columns (total 20 columns):\n",
            " #   Column                            Non-Null Count  Dtype  \n",
            "---  ------                            --------------  -----  \n",
            " 0   tutor_id                          2645 non-null   Int64  \n",
            " 1   tutor_age                         2645 non-null   Int64  \n",
            " 2   session_tag_no_material           2645 non-null   Int64  \n",
            " 3   session_tag_student_left          2645 non-null   Int64  \n",
            " 4   session_tag_student_not_engaging  2645 non-null   Int64  \n",
            " 5   student_complained                2645 non-null   Int64  \n",
            " 6   student_complaint_clarity         2645 non-null   Int64  \n",
            " 7   student_complaint_speed           2645 non-null   Int64  \n",
            " 8   student_complaint_subject         2645 non-null   Int64  \n",
            " 9   student_complaint_other           2645 non-null   Int64  \n",
            " 10  session_tag_cheating              2645 non-null   Int64  \n",
            " 11  session_tag_inappropriate         2645 non-null   Int64  \n",
            " 12  session_tag_other_subject         2645 non-null   Int64  \n",
            " 13  avg_words_tutor                   2645 non-null   float64\n",
            " 14  n_words_tutor                     2645 non-null   float64\n",
            " 15  n_msg_tutor                       2645 non-null   float64\n",
            " 16  avg_words_student                 2645 non-null   float64\n",
            " 17  n_words_student                   2645 non-null   float64\n",
            " 18  n_msg_student                     2645 non-null   float64\n",
            " 19  student_rating_cat                2645 non-null   int64  \n",
            "dtypes: Int64(13), float64(6), int64(1)\n",
            "memory usage: 547.5 KB\n"
          ],
          "name": "stdout"
        }
      ]
    },
    {
      "cell_type": "markdown",
      "metadata": {
        "id": "7BrG9hH8qmUg",
        "colab_type": "text"
      },
      "source": [
        "### Descripción del conjunto de datos generado"
      ]
    },
    {
      "cell_type": "code",
      "metadata": {
        "id": "X3dq9sGoqmUg",
        "colab_type": "code",
        "colab": {},
        "outputId": "ade1a7e3-62a8-443a-dfce-e33ce94802e7"
      },
      "source": [
        "final_df.describe()"
      ],
      "execution_count": null,
      "outputs": [
        {
          "output_type": "execute_result",
          "data": {
            "text/html": [
              "<div>\n",
              "<style scoped>\n",
              "    .dataframe tbody tr th:only-of-type {\n",
              "        vertical-align: middle;\n",
              "    }\n",
              "\n",
              "    .dataframe tbody tr th {\n",
              "        vertical-align: top;\n",
              "    }\n",
              "\n",
              "    .dataframe thead th {\n",
              "        text-align: right;\n",
              "    }\n",
              "</style>\n",
              "<table border=\"1\" class=\"dataframe\">\n",
              "  <thead>\n",
              "    <tr style=\"text-align: right;\">\n",
              "      <th></th>\n",
              "      <th>tutor_id</th>\n",
              "      <th>tutor_age</th>\n",
              "      <th>session_tag_no_material</th>\n",
              "      <th>session_tag_student_left</th>\n",
              "      <th>session_tag_student_not_engaging</th>\n",
              "      <th>student_complained</th>\n",
              "      <th>student_complaint_clarity</th>\n",
              "      <th>student_complaint_speed</th>\n",
              "      <th>student_complaint_subject</th>\n",
              "      <th>student_complaint_other</th>\n",
              "      <th>session_tag_cheating</th>\n",
              "      <th>session_tag_inappropriate</th>\n",
              "      <th>session_tag_other_subject</th>\n",
              "      <th>avg_words_tutor</th>\n",
              "      <th>n_words_tutor</th>\n",
              "      <th>n_msg_tutor</th>\n",
              "      <th>avg_words_student</th>\n",
              "      <th>n_words_student</th>\n",
              "      <th>n_msg_student</th>\n",
              "      <th>student_rating_cat</th>\n",
              "    </tr>\n",
              "  </thead>\n",
              "  <tbody>\n",
              "    <tr>\n",
              "      <th>count</th>\n",
              "      <td>2645.000000</td>\n",
              "      <td>2645.000000</td>\n",
              "      <td>2645.000000</td>\n",
              "      <td>2645.000000</td>\n",
              "      <td>2645.000000</td>\n",
              "      <td>2645.0</td>\n",
              "      <td>2645.0</td>\n",
              "      <td>2645.0</td>\n",
              "      <td>2645.0</td>\n",
              "      <td>2645.0</td>\n",
              "      <td>2645.000000</td>\n",
              "      <td>2645.000000</td>\n",
              "      <td>2645.000000</td>\n",
              "      <td>2645.000000</td>\n",
              "      <td>2645.000000</td>\n",
              "      <td>2645.000000</td>\n",
              "      <td>2645.000000</td>\n",
              "      <td>2645.000000</td>\n",
              "      <td>2645.000000</td>\n",
              "      <td>2645.000000</td>\n",
              "    </tr>\n",
              "    <tr>\n",
              "      <th>mean</th>\n",
              "      <td>141342.293384</td>\n",
              "      <td>37.148960</td>\n",
              "      <td>0.014745</td>\n",
              "      <td>0.084310</td>\n",
              "      <td>0.012476</td>\n",
              "      <td>0.0</td>\n",
              "      <td>0.0</td>\n",
              "      <td>0.0</td>\n",
              "      <td>0.0</td>\n",
              "      <td>0.0</td>\n",
              "      <td>0.010964</td>\n",
              "      <td>0.020794</td>\n",
              "      <td>0.006427</td>\n",
              "      <td>11.453993</td>\n",
              "      <td>424.447259</td>\n",
              "      <td>41.565217</td>\n",
              "      <td>4.065399</td>\n",
              "      <td>128.095652</td>\n",
              "      <td>30.545558</td>\n",
              "      <td>0.796219</td>\n",
              "    </tr>\n",
              "    <tr>\n",
              "      <th>std</th>\n",
              "      <td>152266.417651</td>\n",
              "      <td>13.773142</td>\n",
              "      <td>0.120552</td>\n",
              "      <td>0.277905</td>\n",
              "      <td>0.111020</td>\n",
              "      <td>0.0</td>\n",
              "      <td>0.0</td>\n",
              "      <td>0.0</td>\n",
              "      <td>0.0</td>\n",
              "      <td>0.0</td>\n",
              "      <td>0.104154</td>\n",
              "      <td>0.142721</td>\n",
              "      <td>0.079927</td>\n",
              "      <td>4.788981</td>\n",
              "      <td>469.201954</td>\n",
              "      <td>49.134930</td>\n",
              "      <td>1.967938</td>\n",
              "      <td>144.518904</td>\n",
              "      <td>34.049264</td>\n",
              "      <td>0.402884</td>\n",
              "    </tr>\n",
              "    <tr>\n",
              "      <th>min</th>\n",
              "      <td>6.000000</td>\n",
              "      <td>18.000000</td>\n",
              "      <td>0.000000</td>\n",
              "      <td>0.000000</td>\n",
              "      <td>0.000000</td>\n",
              "      <td>0.0</td>\n",
              "      <td>0.0</td>\n",
              "      <td>0.0</td>\n",
              "      <td>0.0</td>\n",
              "      <td>0.0</td>\n",
              "      <td>0.000000</td>\n",
              "      <td>0.000000</td>\n",
              "      <td>0.000000</td>\n",
              "      <td>0.000000</td>\n",
              "      <td>0.000000</td>\n",
              "      <td>0.000000</td>\n",
              "      <td>0.000000</td>\n",
              "      <td>0.000000</td>\n",
              "      <td>0.000000</td>\n",
              "      <td>0.000000</td>\n",
              "    </tr>\n",
              "    <tr>\n",
              "      <th>25%</th>\n",
              "      <td>34864.000000</td>\n",
              "      <td>23.000000</td>\n",
              "      <td>0.000000</td>\n",
              "      <td>0.000000</td>\n",
              "      <td>0.000000</td>\n",
              "      <td>0.0</td>\n",
              "      <td>0.0</td>\n",
              "      <td>0.0</td>\n",
              "      <td>0.0</td>\n",
              "      <td>0.0</td>\n",
              "      <td>0.000000</td>\n",
              "      <td>0.000000</td>\n",
              "      <td>0.000000</td>\n",
              "      <td>8.577465</td>\n",
              "      <td>125.000000</td>\n",
              "      <td>11.000000</td>\n",
              "      <td>2.782609</td>\n",
              "      <td>36.000000</td>\n",
              "      <td>10.000000</td>\n",
              "      <td>1.000000</td>\n",
              "    </tr>\n",
              "    <tr>\n",
              "      <th>50%</th>\n",
              "      <td>53951.000000</td>\n",
              "      <td>33.000000</td>\n",
              "      <td>0.000000</td>\n",
              "      <td>0.000000</td>\n",
              "      <td>0.000000</td>\n",
              "      <td>0.0</td>\n",
              "      <td>0.0</td>\n",
              "      <td>0.0</td>\n",
              "      <td>0.0</td>\n",
              "      <td>0.0</td>\n",
              "      <td>0.000000</td>\n",
              "      <td>0.000000</td>\n",
              "      <td>0.000000</td>\n",
              "      <td>10.630435</td>\n",
              "      <td>281.000000</td>\n",
              "      <td>27.000000</td>\n",
              "      <td>3.818182</td>\n",
              "      <td>86.000000</td>\n",
              "      <td>21.000000</td>\n",
              "      <td>1.000000</td>\n",
              "    </tr>\n",
              "    <tr>\n",
              "      <th>75%</th>\n",
              "      <td>284699.000000</td>\n",
              "      <td>52.000000</td>\n",
              "      <td>0.000000</td>\n",
              "      <td>0.000000</td>\n",
              "      <td>0.000000</td>\n",
              "      <td>0.0</td>\n",
              "      <td>0.0</td>\n",
              "      <td>0.0</td>\n",
              "      <td>0.0</td>\n",
              "      <td>0.0</td>\n",
              "      <td>0.000000</td>\n",
              "      <td>0.000000</td>\n",
              "      <td>0.000000</td>\n",
              "      <td>13.382812</td>\n",
              "      <td>564.000000</td>\n",
              "      <td>54.000000</td>\n",
              "      <td>5.000000</td>\n",
              "      <td>166.000000</td>\n",
              "      <td>39.000000</td>\n",
              "      <td>1.000000</td>\n",
              "    </tr>\n",
              "    <tr>\n",
              "      <th>max</th>\n",
              "      <td>507859.000000</td>\n",
              "      <td>63.000000</td>\n",
              "      <td>1.000000</td>\n",
              "      <td>1.000000</td>\n",
              "      <td>1.000000</td>\n",
              "      <td>0.0</td>\n",
              "      <td>0.0</td>\n",
              "      <td>0.0</td>\n",
              "      <td>0.0</td>\n",
              "      <td>0.0</td>\n",
              "      <td>1.000000</td>\n",
              "      <td>1.000000</td>\n",
              "      <td>1.000000</td>\n",
              "      <td>59.000000</td>\n",
              "      <td>8062.000000</td>\n",
              "      <td>824.000000</td>\n",
              "      <td>23.000000</td>\n",
              "      <td>1679.000000</td>\n",
              "      <td>563.000000</td>\n",
              "      <td>1.000000</td>\n",
              "    </tr>\n",
              "  </tbody>\n",
              "</table>\n",
              "</div>"
            ],
            "text/plain": [
              "            tutor_id    tutor_age  session_tag_no_material  \\\n",
              "count    2645.000000  2645.000000              2645.000000   \n",
              "mean   141342.293384    37.148960                 0.014745   \n",
              "std    152266.417651    13.773142                 0.120552   \n",
              "min         6.000000    18.000000                 0.000000   \n",
              "25%     34864.000000    23.000000                 0.000000   \n",
              "50%     53951.000000    33.000000                 0.000000   \n",
              "75%    284699.000000    52.000000                 0.000000   \n",
              "max    507859.000000    63.000000                 1.000000   \n",
              "\n",
              "       session_tag_student_left  session_tag_student_not_engaging  \\\n",
              "count               2645.000000                       2645.000000   \n",
              "mean                   0.084310                          0.012476   \n",
              "std                    0.277905                          0.111020   \n",
              "min                    0.000000                          0.000000   \n",
              "25%                    0.000000                          0.000000   \n",
              "50%                    0.000000                          0.000000   \n",
              "75%                    0.000000                          0.000000   \n",
              "max                    1.000000                          1.000000   \n",
              "\n",
              "       student_complained  student_complaint_clarity  student_complaint_speed  \\\n",
              "count              2645.0                     2645.0                   2645.0   \n",
              "mean                  0.0                        0.0                      0.0   \n",
              "std                   0.0                        0.0                      0.0   \n",
              "min                   0.0                        0.0                      0.0   \n",
              "25%                   0.0                        0.0                      0.0   \n",
              "50%                   0.0                        0.0                      0.0   \n",
              "75%                   0.0                        0.0                      0.0   \n",
              "max                   0.0                        0.0                      0.0   \n",
              "\n",
              "       student_complaint_subject  student_complaint_other  \\\n",
              "count                     2645.0                   2645.0   \n",
              "mean                         0.0                      0.0   \n",
              "std                          0.0                      0.0   \n",
              "min                          0.0                      0.0   \n",
              "25%                          0.0                      0.0   \n",
              "50%                          0.0                      0.0   \n",
              "75%                          0.0                      0.0   \n",
              "max                          0.0                      0.0   \n",
              "\n",
              "       session_tag_cheating  session_tag_inappropriate  \\\n",
              "count           2645.000000                2645.000000   \n",
              "mean               0.010964                   0.020794   \n",
              "std                0.104154                   0.142721   \n",
              "min                0.000000                   0.000000   \n",
              "25%                0.000000                   0.000000   \n",
              "50%                0.000000                   0.000000   \n",
              "75%                0.000000                   0.000000   \n",
              "max                1.000000                   1.000000   \n",
              "\n",
              "       session_tag_other_subject  avg_words_tutor  n_words_tutor  n_msg_tutor  \\\n",
              "count                2645.000000      2645.000000    2645.000000  2645.000000   \n",
              "mean                    0.006427        11.453993     424.447259    41.565217   \n",
              "std                     0.079927         4.788981     469.201954    49.134930   \n",
              "min                     0.000000         0.000000       0.000000     0.000000   \n",
              "25%                     0.000000         8.577465     125.000000    11.000000   \n",
              "50%                     0.000000        10.630435     281.000000    27.000000   \n",
              "75%                     0.000000        13.382812     564.000000    54.000000   \n",
              "max                     1.000000        59.000000    8062.000000   824.000000   \n",
              "\n",
              "       avg_words_student  n_words_student  n_msg_student  student_rating_cat  \n",
              "count        2645.000000      2645.000000    2645.000000         2645.000000  \n",
              "mean            4.065399       128.095652      30.545558            0.796219  \n",
              "std             1.967938       144.518904      34.049264            0.402884  \n",
              "min             0.000000         0.000000       0.000000            0.000000  \n",
              "25%             2.782609        36.000000      10.000000            1.000000  \n",
              "50%             3.818182        86.000000      21.000000            1.000000  \n",
              "75%             5.000000       166.000000      39.000000            1.000000  \n",
              "max            23.000000      1679.000000     563.000000            1.000000  "
            ]
          },
          "metadata": {
            "tags": []
          },
          "execution_count": 23
        }
      ]
    }
  ]
}