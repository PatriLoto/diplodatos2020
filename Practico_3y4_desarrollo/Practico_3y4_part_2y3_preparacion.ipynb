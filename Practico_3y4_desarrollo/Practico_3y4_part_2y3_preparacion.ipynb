{
 "cells": [
  {
   "cell_type": "markdown",
   "metadata": {
    "colab_type": "text",
    "id": "0yb32VZbqmTn"
   },
   "source": [
    "# Preparación y curación de los datos"
   ]
  },
  {
   "cell_type": "markdown",
   "metadata": {},
   "source": [
    "### Tabla de Contenidos\n",
    "1. [Inicialización del entorno](#1.-Inicialización-del-entorno)\n",
    "2. [Carga de datos de las sesiones](#2.-Carga-de-datos-de-las-sesiones)\n",
    "3. [Carga de datos de los mensajes](#3.-Carga-de-datos-de-los-mensajes)\n",
    "4. [Conteo de palabras en los mensajes](#4.-Conteo-de-palabras-en-los-mensajes)\n",
    "5. [Join de los datasets](#5.-Join-de-los-datasets)\n",
    "6. [Categorización de la variable objetivo](#6.-Categorización-de-la-variable-objetivo)\n",
    "7. [Remoción de columnas](#7.-Remoción-de-columnas)\n",
    "8. [Guardado del archivo de resultados](#8.-Guardado-del-archivo-de-resultados)\n",
    "9. [Información del conjunto de datos generado](#9.-Información-del-conjunto-de-datos-generado)"
   ]
  },
  {
   "cell_type": "markdown",
   "metadata": {
    "colab_type": "text",
    "id": "hhOU71v5qmTp"
   },
   "source": [
    "## 1. Inicialización del entorno"
   ]
  },
  {
   "cell_type": "code",
   "execution_count": 17,
   "metadata": {
    "colab": {},
    "colab_type": "code",
    "id": "2VMwVmenqmTq"
   },
   "outputs": [],
   "source": [
    "# Librerías básicas\n",
    "import os\n",
    "import pandas as pd\n",
    "import numpy as np\n",
    "import math\n",
    "\n",
    "# Librerías para gráficos\n",
    "import matplotlib.pyplot as plt\n",
    "import seaborn as sns\n",
    "\n",
    "# Librerías necesarias para el conteo de palabras\n",
    "from ast import literal_eval\n",
    "from collections import Counter\n",
    "\n",
    "# Archivo externo con la definición de las columnas a ser cargadas\n",
    "from columns_to_keep import C2K\n",
    "\n",
    "# Archivo externo para conversión de tipos de datos\n",
    "from type_to_fix import T2F"
   ]
  },
  {
   "cell_type": "markdown",
   "metadata": {
    "colab_type": "text",
    "id": "d_xpRhWZqmT0"
   },
   "source": [
    "## 2. Carga de datos de las sesiones\n",
    "\n",
    "Cargamos los datos de las sesiones. Cada fila contiene información acerca de una sesión entre tutor y estudiante"
   ]
  },
  {
   "cell_type": "code",
   "execution_count": 18,
   "metadata": {
    "colab": {},
    "colab_type": "code",
    "id": "u1khGf8qqmT1",
    "outputId": "59908add-3940-48f9-95df-7f4ebe239b93"
   },
   "outputs": [
    {
     "name": "stdout",
     "output_type": "stream",
     "text": [
      "\n",
      "Dimensiones del dataset de sesiones\n",
      "--------------------------------------------------\n",
      "Filas: 63265\n",
      "Columnas: 39\n",
      "\n",
      "Cantidad de sesiones:  63265\n"
     ]
    }
   ],
   "source": [
    "data_dir = os.path.join('..', 'dataset')\n",
    "\n",
    "# dataset de sesiones\n",
    "md_data_file_name = 'datadump-20150801-20171219.csv'\n",
    "md_full_data_file_name = os.path.join(data_dir, md_data_file_name)\n",
    "md_df = pd.read_csv(md_full_data_file_name, low_memory=False)\n",
    "\n",
    "# dataset de sesiones\n",
    "md_df.columns = [column.strip() for column in md_df.columns]\n",
    "md_df = md_df[C2K]\n",
    "md_df = md_df.astype(T2F)\n",
    "\n",
    "# Caracterización del dataset de sesiones\n",
    "print ('\\nDimensiones del dataset de sesiones\\n' + '-'*50)\n",
    "print ('Filas: {}'.format(md_df.shape[0]))\n",
    "print ('Columnas: {}\\n'.format(md_df.shape[1]))\n",
    "print ('Cantidad de sesiones: ', md_df['session_id'].nunique())"
   ]
  },
  {
   "cell_type": "markdown",
   "metadata": {},
   "source": [
    "## 3. Carga de datos de los mensajes\n",
    "\n",
    "Cargamos los datos de los mensajes. Cada fila contiene información sobre un mensaje originado por el tutor, el estudiante o de algun agente (bot, system). Esta información incluye el texto del mensaje."
   ]
  },
  {
   "cell_type": "code",
   "execution_count": 19,
   "metadata": {
    "colab": {},
    "colab_type": "code",
    "id": "u1khGf8qqmT1",
    "outputId": "59908add-3940-48f9-95df-7f4ebe239b93"
   },
   "outputs": [
    {
     "name": "stdout",
     "output_type": "stream",
     "text": [
      "\n",
      "Dimensiones del dataset de mensajes\n",
      "--------------------------------------------------\n",
      "Filas: 1574069\n",
      "Columnas: 6\n",
      "\n",
      "Cantidad de sesiones (en el dataset de mensajes):  25693\n",
      "Cantidad de turnos (total): 1574069\n",
      "Cantidad de turnos del tutor: 810024\n",
      "Cantidad de turnos del estudiante: 601453\n"
     ]
    }
   ],
   "source": [
    "# dataset de mensajes\n",
    "#msg_data_file_name = 'dev_yup_messages_preprocessed.csv'\n",
    "#msg_data_file_name = 'train_yup_messages_preprocessed.csv'\n",
    "#msg_data_file_name = 'test_yup_messages_preprocessed.csv'\n",
    "msg_data_file_name = 'yup_messages_preprocessed.csv'\n",
    "\n",
    "msg_full_data_file_name = os.path.join(data_dir, msg_data_file_name)\n",
    "msg_df = pd.read_csv(msg_full_data_file_name)\n",
    "msg_df = msg_df.astype({'created_at': 'datetime64[ns, UTC]'})\n",
    "\n",
    "\n",
    "# Caracterización del dataset de mensajes\n",
    "print ('\\nDimensiones del dataset de mensajes\\n' + '-'*50)\n",
    "print ('Filas: {}'.format(msg_df.shape[0]))\n",
    "print ('Columnas: {}\\n'.format(msg_df.shape[1]))\n",
    "print ('Cantidad de sesiones (en el dataset de mensajes): ', msg_df['session_id'].nunique())\n",
    "print ('Cantidad de turnos (total): {}'.format(msg_df.shape[0]))\n",
    "print ('Cantidad de turnos del tutor: {}'.format(len(msg_df[msg_df.sent_from=='tutor'])))\n",
    "print ('Cantidad de turnos del estudiante: {}'.format(len(msg_df[msg_df.sent_from=='student'])))"
   ]
  },
  {
   "cell_type": "markdown",
   "metadata": {
    "colab_type": "text",
    "id": "WtHpBiHXqmT5"
   },
   "source": [
    "## 4. Conteo de palabras en los mensajes\n",
    "\n",
    "Realizamos el conteo de palabras en los mensajes, para el tutor y el estudiante. A partir del cálculo de la longitud de los mensajes por turno, obtenemos para el tutor y el estudiante:\n",
    "\n",
    "* Cantidad de mensajes por sesión\n",
    "* Cantidad de palabras por sesión\n",
    "* Longitud de mensaje promedio (cantidad promedio de palabras) por sesión\n",
    "\n",
    "También:\n",
    "\n",
    "* Cantidad de mensajes de bot\n",
    "* Cantidad de mensajes del sistema\n",
    "* Canridad de mensajes cuyo contenido es texto\n",
    "* Canridad de mensajes cuyo contenido es imagen"
   ]
  },
  {
   "cell_type": "code",
   "execution_count": 20,
   "metadata": {
    "colab": {},
    "colab_type": "code",
    "id": "Y7qH1wM9qmT6"
   },
   "outputs": [],
   "source": [
    "# Cálculo de las longitudes de los mensajes (cantidad de palabas)\n",
    "\n",
    "msg_df['tokens'] = msg_df.text.apply(lambda x: literal_eval(x))\n",
    "msg_df['n_words'] = msg_df.tokens.apply(lambda x: len(x))"
   ]
  },
  {
   "cell_type": "code",
   "execution_count": 21,
   "metadata": {
    "colab": {},
    "colab_type": "code",
    "id": "RtS7TD3VqmT9"
   },
   "outputs": [],
   "source": [
    "# Conteo de palabras tutor y estudiante\n",
    "\n",
    "agg_tutor_msg_df = msg_df[msg_df['sent_from']=='tutor'].groupby('session_id').agg(\n",
    "    avg_words_tutor = ('n_words', np.mean),\n",
    "    n_words_tutor = ('n_words', sum),\n",
    "    n_msg_tutor = ('sent_from', lambda x: x.eq('tutor').sum()),\n",
    "    tokens_tutor = ('tokens', lambda x: x.sum())\n",
    ")\n",
    "agg_student_msg_df = msg_df[msg_df['sent_from']=='student'].groupby('session_id').agg(\n",
    "    avg_words_student = ('n_words', np.mean),\n",
    "    n_words_student = ('n_words', sum),\n",
    "    n_msg_student = ('sent_from', lambda x: x.eq('student').sum()),\n",
    "    tokens_student = ('tokens', lambda x: x.sum())\n",
    ")"
   ]
  },
  {
   "cell_type": "code",
   "execution_count": 22,
   "metadata": {
    "colab": {},
    "colab_type": "code",
    "id": "Viw7dMXCqmUB"
   },
   "outputs": [],
   "source": [
    "# Otras agregaciones del dataset de mensajes \n",
    "\n",
    "agg_msg_df = msg_df.groupby('session_id').agg(\n",
    "        # started =('created_at', min),\n",
    "        # ended =('created_at', max),\n",
    "        duration = ('created_at', lambda x: (max(x) - min(x))),\n",
    "        n_msg_bot = ('sent_from', lambda x: x.eq('bot').sum()),\n",
    "        n_msg_system = ('sent_from', lambda x: x.isin(list(['system alert', 'system info', 'system warn'])).sum()),\n",
    "        n_msg_content_text = ('content_type', lambda x: x.eq('text').sum()),\n",
    "        n_msg_content_image = ('content_type', lambda x: x.eq('image').sum())\n",
    "        # tokens = ('tokens', lambda x: x.sum()),\n",
    ")"
   ]
  },
  {
   "cell_type": "code",
   "execution_count": 23,
   "metadata": {},
   "outputs": [
    {
     "name": "stdout",
     "output_type": "stream",
     "text": [
      "\n",
      "Dimensiones de los datasets (cantidad de filas)\n",
      "\n",
      "Conteos del Tutor: 22359\n",
      "Conteos del Estudiante: 25195\n",
      "Otros conteos: 25693\n"
     ]
    }
   ],
   "source": [
    "print ('\\nDimensiones de los datasets (cantidad de filas)\\n')\n",
    "print('Conteos del Tutor: {}'.format(agg_tutor_msg_df.shape[0]))\n",
    "print('Conteos del Estudiante: {}'.format(agg_student_msg_df.shape[0]))\n",
    "print('Otros conteos: {}'.format(agg_msg_df.shape[0]))"
   ]
  },
  {
   "cell_type": "markdown",
   "metadata": {
    "colab_type": "text",
    "id": "7PeSsREDqmUK"
   },
   "source": [
    "## 5. Join de los datasets\n",
    "\n",
    "Combinamos el dataset de sesiones con los datasets obtenidos a partir de los conteos del dataset de mensajes. La cantidad "
   ]
  },
  {
   "cell_type": "code",
   "execution_count": 24,
   "metadata": {
    "colab": {},
    "colab_type": "code",
    "id": "U0JX8k-DqmUL"
   },
   "outputs": [],
   "source": [
    "# Joins\n",
    "res_df = pd.merge(md_df, agg_msg_df, on=[\"session_id\", \"session_id\"])\n",
    "res_df = pd.merge(res_df, agg_tutor_msg_df, how=\"left\", on=[\"session_id\", \"session_id\"])\n",
    "res_df = pd.merge(res_df, agg_student_msg_df, how=\"left\", on=[\"session_id\", \"session_id\"])\n",
    "\n",
    "# Llenar los NAN producto del left join con ceros\n",
    "res_df['avg_words_tutor'] = res_df['avg_words_tutor'].fillna(0)\n",
    "res_df['n_words_tutor'] = res_df['n_words_tutor'].fillna(0)\n",
    "res_df['n_msg_tutor'] = res_df['n_msg_tutor'].fillna(0)\n",
    "\n",
    "res_df['avg_words_student'] = res_df['avg_words_student'].fillna(0)\n",
    "res_df['n_words_student'] = res_df['n_words_student'].fillna(0)\n",
    "res_df['n_msg_student'] = res_df['n_msg_student'].fillna(0)"
   ]
  },
  {
   "cell_type": "code",
   "execution_count": 25,
   "metadata": {},
   "outputs": [
    {
     "name": "stdout",
     "output_type": "stream",
     "text": [
      "\n",
      "Dimensiones del dataset (cantidad de filas)\n",
      "\n",
      "Dataset combinado (datos de las sesiones + conteos + tokens): 25693\n"
     ]
    }
   ],
   "source": [
    "print ('\\nDimensiones del dataset (cantidad de filas)\\n')\n",
    "print('Dataset combinado (datos de las sesiones + conteos + tokens): {}'.format(agg_msg_df.shape[0]))"
   ]
  },
  {
   "cell_type": "markdown",
   "metadata": {
    "colab_type": "text",
    "id": "r_wKZ4tJqmUO"
   },
   "source": [
    "## 6. Categorización de la variable objetivo\n",
    "Creamos una variable categórica `student_rating_cat` a partir de la variable `student_rating`. Esta representa la clase que buscamos predecir. Para valores menores o iguales a 2 que consideramos feedback negativo asignaremos la clase 0, mientras que valores mayores o iguales a 4 serán considerados positivos (clase 1)\n",
    "\n",
    "Removeremos las filas evaluadas como neutras, es defir aquellas con calificación 3\n",
    "\n"
   ]
  },
  {
   "cell_type": "code",
   "execution_count": 26,
   "metadata": {
    "colab": {},
    "colab_type": "code",
    "id": "VFw5VOIOqmUP",
    "outputId": "dd039163-098b-428e-a525-e6ffaeef084d"
   },
   "outputs": [
    {
     "name": "stdout",
     "output_type": "stream",
     "text": [
      "\n",
      "Remoción de 7476 sesiones que no tienen valor para variable student_rating\n",
      "Remoción de 788 sesiones calificadas como neutras\n"
     ]
    }
   ],
   "source": [
    "# Categorización de la variable student_rating\n",
    "\n",
    "def student_rating_category(x):\n",
    "    \n",
    "    if x <= 2:\n",
    "        return 0\n",
    "    \n",
    "    if x >= 4:\n",
    "        return 1\n",
    "\n",
    "    return 'neutra'\n",
    "\n",
    "# Eliminamos las filas nulas\n",
    "print ('\\nRemoción de {} sesiones que no tienen valor para variable student_rating'.format(res_df['student_rating'].isnull().sum()))\n",
    "res_df = res_df.dropna(subset=['student_rating'])\n",
    "\n",
    "# Categorización de la variable objetivo\n",
    "res_df['student_rating_cat'] = res_df.student_rating.apply(student_rating_category)\n",
    "\n",
    "# Remoción de las filas con calificación neutra\n",
    "print ('Remoción de {} sesiones calificadas como neutras'.format(len(res_df[res_df['student_rating_cat'] == 'neutra'])))\n",
    "res_df = res_df.loc[res_df.student_rating_cat != 'neutra']"
   ]
  },
  {
   "cell_type": "code",
   "execution_count": 27,
   "metadata": {
    "colab": {},
    "colab_type": "code",
    "id": "NJi1MbTZqmUS",
    "outputId": "18df2939-00df-4247-b9eb-2d15cf807bc7"
   },
   "outputs": [
    {
     "name": "stdout",
     "output_type": "stream",
     "text": [
      "\n",
      "Dimensiones del dataset combinado\n",
      "\n",
      "Filas: 17429\n",
      "Columnas: 53\n",
      "Cantidad de sesiones: 17429\n"
     ]
    }
   ],
   "source": [
    "# Caracterización del dataset combinado\n",
    "print ('\\nDimensiones del dataset combinado\\n')\n",
    "print ('Filas: {}'.format(res_df.shape[0]))\n",
    "print ('Columnas: {}'.format(res_df.shape[1]))\n",
    "print ('Cantidad de sesiones:', res_df['session_id'].nunique())"
   ]
  },
  {
   "cell_type": "markdown",
   "metadata": {
    "colab_type": "text",
    "id": "9qQqiHbzqmUV"
   },
   "source": [
    "## 7. Remoción de columnas \n",
    "Removemos las columnas que no se usarán para predecir la variable objetivo"
   ]
  },
  {
   "cell_type": "code",
   "execution_count": 28,
   "metadata": {
    "colab": {},
    "colab_type": "code",
    "id": "eh9uifluqmUV"
   },
   "outputs": [],
   "source": [
    "columns_to_keep = list()\n",
    "columns_to_keep.append('tutor_id')\n",
    "columns_to_keep.append('tutor_age')\n",
    "columns_to_keep.append('session_tag_no_material')\n",
    "columns_to_keep.append('session_tag_student_left')\n",
    "columns_to_keep.append('session_tag_student_not_engaging')\n",
    "columns_to_keep.append('student_complained')\n",
    "columns_to_keep.append('student_complaint_clarity')\n",
    "columns_to_keep.append('student_complaint_speed')\n",
    "columns_to_keep.append('student_complaint_subject')\n",
    "columns_to_keep.append('student_complaint_other')\n",
    "columns_to_keep.append('session_tag_cheating')\n",
    "columns_to_keep.append('session_tag_inappropriate')\n",
    "columns_to_keep.append('session_tag_other_subject')\n",
    "columns_to_keep.append('avg_words_tutor')\n",
    "columns_to_keep.append('n_words_tutor')\n",
    "columns_to_keep.append('n_msg_tutor')\n",
    "columns_to_keep.append('avg_words_student')\n",
    "columns_to_keep.append('n_words_student')\n",
    "columns_to_keep.append('n_msg_student')\n",
    "columns_to_keep.append('tokens_tutor')\n",
    "columns_to_keep.append('tokens_student')\n",
    "# columns_to_keep.append('tokens')\n",
    "columns_to_keep.append('student_rating_cat')\n",
    "\n",
    "final_df = res_df[columns_to_keep]\n",
    "\n",
    "final_df = final_df.astype({'student_rating_cat':int})\n",
    "\n",
    "mean_tutor_age = final_df.tutor_age.mean().astype(int)\n",
    "for i in final_df[final_df.tutor_age.isna()].index:\n",
    "    final_df.loc[i, ['tutor_age']] = mean_tutor_age"
   ]
  },
  {
   "cell_type": "markdown",
   "metadata": {
    "colab_type": "text",
    "id": "cIisEMROqmUY"
   },
   "source": [
    "## 8. Guardado del archivo de resultados"
   ]
  },
  {
   "cell_type": "code",
   "execution_count": 29,
   "metadata": {
    "colab": {},
    "colab_type": "code",
    "id": "SwQeT_TqqmUZ"
   },
   "outputs": [],
   "source": [
    "# Salva archivo csv con el prefijo del archivo procesado\n",
    "\n",
    "curated_data_file_name = msg_data_file_name.split('_')[0] + '_curated_data.csv'\n",
    "curated_full_data_file_name = os.path.join(data_dir, curated_data_file_name)\n",
    "final_df.to_csv(curated_full_data_file_name, index=False)"
   ]
  },
  {
   "cell_type": "markdown",
   "metadata": {
    "colab_type": "text",
    "id": "Wd__0B7_qmUc"
   },
   "source": [
    "## 9. Información del conjunto de datos generado"
   ]
  },
  {
   "cell_type": "code",
   "execution_count": 30,
   "metadata": {
    "colab": {},
    "colab_type": "code",
    "id": "BaA9vZqSqmUd",
    "outputId": "c99ab1a6-6ae7-4250-f33c-4c5a05f88efc"
   },
   "outputs": [
    {
     "name": "stdout",
     "output_type": "stream",
     "text": [
      "<class 'pandas.core.frame.DataFrame'>\n",
      "Int64Index: 17429 entries, 0 to 25692\n",
      "Data columns (total 22 columns):\n",
      " #   Column                            Non-Null Count  Dtype  \n",
      "---  ------                            --------------  -----  \n",
      " 0   tutor_id                          17429 non-null  Int64  \n",
      " 1   tutor_age                         17429 non-null  Int64  \n",
      " 2   session_tag_no_material           17429 non-null  Int64  \n",
      " 3   session_tag_student_left          17429 non-null  Int64  \n",
      " 4   session_tag_student_not_engaging  17429 non-null  Int64  \n",
      " 5   student_complained                17429 non-null  Int64  \n",
      " 6   student_complaint_clarity         17429 non-null  Int64  \n",
      " 7   student_complaint_speed           17429 non-null  Int64  \n",
      " 8   student_complaint_subject         17429 non-null  Int64  \n",
      " 9   student_complaint_other           17429 non-null  Int64  \n",
      " 10  session_tag_cheating              17429 non-null  Int64  \n",
      " 11  session_tag_inappropriate         17429 non-null  Int64  \n",
      " 12  session_tag_other_subject         17429 non-null  Int64  \n",
      " 13  avg_words_tutor                   17429 non-null  float64\n",
      " 14  n_words_tutor                     17429 non-null  float64\n",
      " 15  n_msg_tutor                       17429 non-null  float64\n",
      " 16  avg_words_student                 17429 non-null  float64\n",
      " 17  n_words_student                   17429 non-null  float64\n",
      " 18  n_msg_student                     17429 non-null  float64\n",
      " 19  tokens_tutor                      17283 non-null  object \n",
      " 20  tokens_student                    17424 non-null  object \n",
      " 21  student_rating_cat                17429 non-null  int64  \n",
      "dtypes: Int64(13), float64(6), int64(1), object(2)\n",
      "memory usage: 3.9+ MB\n"
     ]
    }
   ],
   "source": [
    "final_df.info()"
   ]
  },
  {
   "cell_type": "markdown",
   "metadata": {
    "colab_type": "text",
    "id": "7BrG9hH8qmUg"
   },
   "source": [
    "### Descripción del conjunto de datos generado"
   ]
  },
  {
   "cell_type": "code",
   "execution_count": 31,
   "metadata": {
    "colab": {},
    "colab_type": "code",
    "id": "X3dq9sGoqmUg",
    "outputId": "ade1a7e3-62a8-443a-dfce-e33ce94802e7"
   },
   "outputs": [
    {
     "data": {
      "text/html": [
       "<div>\n",
       "<style scoped>\n",
       "    .dataframe tbody tr th:only-of-type {\n",
       "        vertical-align: middle;\n",
       "    }\n",
       "\n",
       "    .dataframe tbody tr th {\n",
       "        vertical-align: top;\n",
       "    }\n",
       "\n",
       "    .dataframe thead th {\n",
       "        text-align: right;\n",
       "    }\n",
       "</style>\n",
       "<table border=\"1\" class=\"dataframe\">\n",
       "  <thead>\n",
       "    <tr style=\"text-align: right;\">\n",
       "      <th></th>\n",
       "      <th>tutor_id</th>\n",
       "      <th>tutor_age</th>\n",
       "      <th>session_tag_no_material</th>\n",
       "      <th>session_tag_student_left</th>\n",
       "      <th>session_tag_student_not_engaging</th>\n",
       "      <th>student_complained</th>\n",
       "      <th>student_complaint_clarity</th>\n",
       "      <th>student_complaint_speed</th>\n",
       "      <th>student_complaint_subject</th>\n",
       "      <th>student_complaint_other</th>\n",
       "      <th>session_tag_cheating</th>\n",
       "      <th>session_tag_inappropriate</th>\n",
       "      <th>session_tag_other_subject</th>\n",
       "      <th>avg_words_tutor</th>\n",
       "      <th>n_words_tutor</th>\n",
       "      <th>n_msg_tutor</th>\n",
       "      <th>avg_words_student</th>\n",
       "      <th>n_words_student</th>\n",
       "      <th>n_msg_student</th>\n",
       "      <th>student_rating_cat</th>\n",
       "    </tr>\n",
       "  </thead>\n",
       "  <tbody>\n",
       "    <tr>\n",
       "      <th>count</th>\n",
       "      <td>17429.000000</td>\n",
       "      <td>17429.000000</td>\n",
       "      <td>17429.000000</td>\n",
       "      <td>17429.000000</td>\n",
       "      <td>17429.000000</td>\n",
       "      <td>17429.0</td>\n",
       "      <td>17429.0</td>\n",
       "      <td>17429.0</td>\n",
       "      <td>17429.0</td>\n",
       "      <td>17429.0</td>\n",
       "      <td>17429.000000</td>\n",
       "      <td>17429.000000</td>\n",
       "      <td>17429.000000</td>\n",
       "      <td>17429.000000</td>\n",
       "      <td>17429.000000</td>\n",
       "      <td>17429.000000</td>\n",
       "      <td>17429.000000</td>\n",
       "      <td>17429.000000</td>\n",
       "      <td>17429.000000</td>\n",
       "      <td>17429.000000</td>\n",
       "    </tr>\n",
       "    <tr>\n",
       "      <th>mean</th>\n",
       "      <td>136277.454472</td>\n",
       "      <td>37.166045</td>\n",
       "      <td>0.018131</td>\n",
       "      <td>0.094268</td>\n",
       "      <td>0.014516</td>\n",
       "      <td>0.0</td>\n",
       "      <td>0.0</td>\n",
       "      <td>0.0</td>\n",
       "      <td>0.0</td>\n",
       "      <td>0.0</td>\n",
       "      <td>0.011131</td>\n",
       "      <td>0.017959</td>\n",
       "      <td>0.009467</td>\n",
       "      <td>11.507026</td>\n",
       "      <td>427.743760</td>\n",
       "      <td>41.699466</td>\n",
       "      <td>4.071113</td>\n",
       "      <td>128.776924</td>\n",
       "      <td>30.621091</td>\n",
       "      <td>0.793562</td>\n",
       "    </tr>\n",
       "    <tr>\n",
       "      <th>std</th>\n",
       "      <td>149987.026748</td>\n",
       "      <td>13.634482</td>\n",
       "      <td>0.133428</td>\n",
       "      <td>0.292210</td>\n",
       "      <td>0.119608</td>\n",
       "      <td>0.0</td>\n",
       "      <td>0.0</td>\n",
       "      <td>0.0</td>\n",
       "      <td>0.0</td>\n",
       "      <td>0.0</td>\n",
       "      <td>0.104917</td>\n",
       "      <td>0.132805</td>\n",
       "      <td>0.096840</td>\n",
       "      <td>4.705331</td>\n",
       "      <td>465.027859</td>\n",
       "      <td>48.330339</td>\n",
       "      <td>2.144409</td>\n",
       "      <td>146.949457</td>\n",
       "      <td>32.894722</td>\n",
       "      <td>0.404760</td>\n",
       "    </tr>\n",
       "    <tr>\n",
       "      <th>min</th>\n",
       "      <td>2.000000</td>\n",
       "      <td>15.000000</td>\n",
       "      <td>0.000000</td>\n",
       "      <td>0.000000</td>\n",
       "      <td>0.000000</td>\n",
       "      <td>0.0</td>\n",
       "      <td>0.0</td>\n",
       "      <td>0.0</td>\n",
       "      <td>0.0</td>\n",
       "      <td>0.0</td>\n",
       "      <td>0.000000</td>\n",
       "      <td>0.000000</td>\n",
       "      <td>0.000000</td>\n",
       "      <td>0.000000</td>\n",
       "      <td>0.000000</td>\n",
       "      <td>0.000000</td>\n",
       "      <td>0.000000</td>\n",
       "      <td>0.000000</td>\n",
       "      <td>0.000000</td>\n",
       "      <td>0.000000</td>\n",
       "    </tr>\n",
       "    <tr>\n",
       "      <th>25%</th>\n",
       "      <td>34864.000000</td>\n",
       "      <td>23.000000</td>\n",
       "      <td>0.000000</td>\n",
       "      <td>0.000000</td>\n",
       "      <td>0.000000</td>\n",
       "      <td>0.0</td>\n",
       "      <td>0.0</td>\n",
       "      <td>0.0</td>\n",
       "      <td>0.0</td>\n",
       "      <td>0.0</td>\n",
       "      <td>0.000000</td>\n",
       "      <td>0.000000</td>\n",
       "      <td>0.000000</td>\n",
       "      <td>8.625000</td>\n",
       "      <td>120.000000</td>\n",
       "      <td>10.000000</td>\n",
       "      <td>2.762376</td>\n",
       "      <td>35.000000</td>\n",
       "      <td>10.000000</td>\n",
       "      <td>1.000000</td>\n",
       "    </tr>\n",
       "    <tr>\n",
       "      <th>50%</th>\n",
       "      <td>49985.000000</td>\n",
       "      <td>33.000000</td>\n",
       "      <td>0.000000</td>\n",
       "      <td>0.000000</td>\n",
       "      <td>0.000000</td>\n",
       "      <td>0.0</td>\n",
       "      <td>0.0</td>\n",
       "      <td>0.0</td>\n",
       "      <td>0.0</td>\n",
       "      <td>0.0</td>\n",
       "      <td>0.000000</td>\n",
       "      <td>0.000000</td>\n",
       "      <td>0.000000</td>\n",
       "      <td>10.600000</td>\n",
       "      <td>286.000000</td>\n",
       "      <td>27.000000</td>\n",
       "      <td>3.769231</td>\n",
       "      <td>84.000000</td>\n",
       "      <td>21.000000</td>\n",
       "      <td>1.000000</td>\n",
       "    </tr>\n",
       "    <tr>\n",
       "      <th>75%</th>\n",
       "      <td>281457.000000</td>\n",
       "      <td>52.000000</td>\n",
       "      <td>0.000000</td>\n",
       "      <td>0.000000</td>\n",
       "      <td>0.000000</td>\n",
       "      <td>0.0</td>\n",
       "      <td>0.0</td>\n",
       "      <td>0.0</td>\n",
       "      <td>0.0</td>\n",
       "      <td>0.0</td>\n",
       "      <td>0.000000</td>\n",
       "      <td>0.000000</td>\n",
       "      <td>0.000000</td>\n",
       "      <td>13.400000</td>\n",
       "      <td>567.000000</td>\n",
       "      <td>55.000000</td>\n",
       "      <td>5.000000</td>\n",
       "      <td>166.000000</td>\n",
       "      <td>39.000000</td>\n",
       "      <td>1.000000</td>\n",
       "    </tr>\n",
       "    <tr>\n",
       "      <th>max</th>\n",
       "      <td>510148.000000</td>\n",
       "      <td>63.000000</td>\n",
       "      <td>1.000000</td>\n",
       "      <td>1.000000</td>\n",
       "      <td>1.000000</td>\n",
       "      <td>0.0</td>\n",
       "      <td>0.0</td>\n",
       "      <td>0.0</td>\n",
       "      <td>0.0</td>\n",
       "      <td>0.0</td>\n",
       "      <td>1.000000</td>\n",
       "      <td>1.000000</td>\n",
       "      <td>1.000000</td>\n",
       "      <td>59.000000</td>\n",
       "      <td>8062.000000</td>\n",
       "      <td>824.000000</td>\n",
       "      <td>125.750000</td>\n",
       "      <td>2202.000000</td>\n",
       "      <td>563.000000</td>\n",
       "      <td>1.000000</td>\n",
       "    </tr>\n",
       "  </tbody>\n",
       "</table>\n",
       "</div>"
      ],
      "text/plain": [
       "            tutor_id     tutor_age  session_tag_no_material  \\\n",
       "count   17429.000000  17429.000000             17429.000000   \n",
       "mean   136277.454472     37.166045                 0.018131   \n",
       "std    149987.026748     13.634482                 0.133428   \n",
       "min         2.000000     15.000000                 0.000000   \n",
       "25%     34864.000000     23.000000                 0.000000   \n",
       "50%     49985.000000     33.000000                 0.000000   \n",
       "75%    281457.000000     52.000000                 0.000000   \n",
       "max    510148.000000     63.000000                 1.000000   \n",
       "\n",
       "       session_tag_student_left  session_tag_student_not_engaging  \\\n",
       "count              17429.000000                      17429.000000   \n",
       "mean                   0.094268                          0.014516   \n",
       "std                    0.292210                          0.119608   \n",
       "min                    0.000000                          0.000000   \n",
       "25%                    0.000000                          0.000000   \n",
       "50%                    0.000000                          0.000000   \n",
       "75%                    0.000000                          0.000000   \n",
       "max                    1.000000                          1.000000   \n",
       "\n",
       "       student_complained  student_complaint_clarity  student_complaint_speed  \\\n",
       "count             17429.0                    17429.0                  17429.0   \n",
       "mean                  0.0                        0.0                      0.0   \n",
       "std                   0.0                        0.0                      0.0   \n",
       "min                   0.0                        0.0                      0.0   \n",
       "25%                   0.0                        0.0                      0.0   \n",
       "50%                   0.0                        0.0                      0.0   \n",
       "75%                   0.0                        0.0                      0.0   \n",
       "max                   0.0                        0.0                      0.0   \n",
       "\n",
       "       student_complaint_subject  student_complaint_other  \\\n",
       "count                    17429.0                  17429.0   \n",
       "mean                         0.0                      0.0   \n",
       "std                          0.0                      0.0   \n",
       "min                          0.0                      0.0   \n",
       "25%                          0.0                      0.0   \n",
       "50%                          0.0                      0.0   \n",
       "75%                          0.0                      0.0   \n",
       "max                          0.0                      0.0   \n",
       "\n",
       "       session_tag_cheating  session_tag_inappropriate  \\\n",
       "count          17429.000000               17429.000000   \n",
       "mean               0.011131                   0.017959   \n",
       "std                0.104917                   0.132805   \n",
       "min                0.000000                   0.000000   \n",
       "25%                0.000000                   0.000000   \n",
       "50%                0.000000                   0.000000   \n",
       "75%                0.000000                   0.000000   \n",
       "max                1.000000                   1.000000   \n",
       "\n",
       "       session_tag_other_subject  avg_words_tutor  n_words_tutor  \\\n",
       "count               17429.000000     17429.000000   17429.000000   \n",
       "mean                    0.009467        11.507026     427.743760   \n",
       "std                     0.096840         4.705331     465.027859   \n",
       "min                     0.000000         0.000000       0.000000   \n",
       "25%                     0.000000         8.625000     120.000000   \n",
       "50%                     0.000000        10.600000     286.000000   \n",
       "75%                     0.000000        13.400000     567.000000   \n",
       "max                     1.000000        59.000000    8062.000000   \n",
       "\n",
       "        n_msg_tutor  avg_words_student  n_words_student  n_msg_student  \\\n",
       "count  17429.000000       17429.000000     17429.000000   17429.000000   \n",
       "mean      41.699466           4.071113       128.776924      30.621091   \n",
       "std       48.330339           2.144409       146.949457      32.894722   \n",
       "min        0.000000           0.000000         0.000000       0.000000   \n",
       "25%       10.000000           2.762376        35.000000      10.000000   \n",
       "50%       27.000000           3.769231        84.000000      21.000000   \n",
       "75%       55.000000           5.000000       166.000000      39.000000   \n",
       "max      824.000000         125.750000      2202.000000     563.000000   \n",
       "\n",
       "       student_rating_cat  \n",
       "count        17429.000000  \n",
       "mean             0.793562  \n",
       "std              0.404760  \n",
       "min              0.000000  \n",
       "25%              1.000000  \n",
       "50%              1.000000  \n",
       "75%              1.000000  \n",
       "max              1.000000  "
      ]
     },
     "execution_count": 31,
     "metadata": {},
     "output_type": "execute_result"
    }
   ],
   "source": [
    "final_df.describe()"
   ]
  },
  {
   "cell_type": "markdown",
   "metadata": {},
   "source": [
    "### Visualización del balanceo de clases en la variable a predecir"
   ]
  },
  {
   "cell_type": "code",
   "execution_count": 32,
   "metadata": {},
   "outputs": [
    {
     "data": {
      "image/png": "[encoded data removed]",
      "text/plain": [
       "<Figure size 576x576 with 1 Axes>"
      ]
     },
     "metadata": {
      "needs_background": "light"
     },
     "output_type": "display_data"
    }
   ],
   "source": [
    "plt.figure(figsize=(8, 8))\n",
    "sns.countplot('student_rating_cat', data=final_df)\n",
    "plt.title('Desequilibrio de Clases', fontsize=14)\n",
    "plt.show()"
   ]
  }
 ],
 "metadata": {
  "colab": {
   "collapsed_sections": [],
   "name": "Practico_3y4_part_2y3_preparacion.ipynb",
   "provenance": []
  },
  "kernelspec": {
   "display_name": "Python 3.7.6 64-bit ('diplodatos': conda)",
   "language": "python",
   "name": "python37664bitdiplodatoscondab950ef8857c54437935552465fc88aed"
  },
  "language_info": {
   "codemirror_mode": {
    "name": "ipython",
    "version": 3
   },
   "file_extension": ".py",
   "mimetype": "text/x-python",
   "name": "python",
   "nbconvert_exporter": "python",
   "pygments_lexer": "ipython3",
   "version": "3.7.6"
  }
 },
 "nbformat": 4,
 "nbformat_minor": 4
}
