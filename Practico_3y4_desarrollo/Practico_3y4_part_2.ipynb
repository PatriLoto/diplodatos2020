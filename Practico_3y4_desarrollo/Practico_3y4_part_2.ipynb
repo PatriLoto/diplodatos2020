{
 "cells": [
  {
   "cell_type": "markdown",
   "metadata": {},
   "source": [
    "# Practico 3 y 4\n",
    "## Inclusion de librerias y módulos"
   ]
  },
  {
   "cell_type": "code",
   "execution_count": 1,
   "metadata": {},
   "outputs": [],
   "source": [
    "# Inclusion de librerias y módulos\n",
    "import os\n",
    "import numpy as np\n",
    "import matplotlib.pyplot as plt\n",
    "import pandas as pd\n",
    "import seaborn as sns\n",
    "from scipy import stats\n",
    "\n",
    "# Separación\n",
    "from sklearn.model_selection import train_test_split\n",
    "\n",
    "# Gradiente Descendente\n",
    "from sklearn.linear_model import SGDClassifier\n",
    "\n",
    "# Árbol de Decisión\n",
    "# from sklearn.tree import DecisionTreeClassifier, plot_tree\n",
    "\n",
    "# Validación Cruzada de HP en grilla.\n",
    "from sklearn.model_selection import GridSearchCV\n",
    "\n",
    "# Normalización\n",
    "from sklearn.preprocessing import StandardScaler\n",
    "\n",
    "# Utiles\n",
    "from utiles import basic_metrics\n",
    "from utiles import plot_cm\n",
    "from utiles import plot_roc_pr\n",
    "\n",
    "# Colores\n",
    "BLUE   = '#5DADE2'\n",
    "RED    = '#ff7043'\n",
    "ORANGE = '#F5B041'\n",
    "GREEN  = '#58D68D'\n",
    "YELLOW = '#F4D03F'\n",
    "\n",
    "# Plot axes y legends parambs\n",
    "plt.rcParams[\"axes.labelweight\"]   = \"bold\"\n",
    "plt.rcParams[\"axes.titleweight\"]   = \"bold\"\n",
    "plt.rcParams[\"legend.shadow\"]      = True\n",
    "plt.rcParams[\"figure.titleweight\"] = \"bold\""
   ]
  },
  {
   "cell_type": "markdown",
   "metadata": {},
   "source": [
    "## Carga, división y normalización de los datos\n",
    "\n",
    "El archivo `yup_curated_data.csv` se genera a partir del archivo `yup_messages_preprocessed.csv` y `datadump-20150801-20171219.csv` y se cura para se utilizado en el presente notebook."
   ]
  },
  {
   "cell_type": "code",
   "execution_count": 2,
   "metadata": {},
   "outputs": [],
   "source": [
    "filename = 'yup_curated_data.csv'\n",
    "dataset = pd.read_csv(os.path.join('..', 'dataset', filename))\n",
    "\n",
    "# Dividimos entre entrada y referencia\n",
    "X, y = dataset.iloc[:, :-1], dataset.student_rating_cat\n",
    "\n",
    "# Division entre train y test\n",
    "X_train, X_test, y_train, y_test = train_test_split(X, y, test_size=0.2, random_state=0)\n",
    "\n",
    "# Normalizamos los datos para mejorar convergencia\n",
    "StdScaler = StandardScaler()\n",
    "StdScaler.fit(X_train)\n",
    "X_train = StdScaler.transform(X_train)\n",
    "X_test  = StdScaler.transform(X_test)"
   ]
  },
  {
   "cell_type": "markdown",
   "metadata": {},
   "source": [
    "## **Ejercicio 2: Clasificador Stochastic Gradient Descent**\n",
    "\n",
    "Se crea el objeto del modelo y se imprimen los parametros por defecto que posee el modelo."
   ]
  },
  {
   "cell_type": "code",
   "execution_count": 3,
   "metadata": {},
   "outputs": [
    {
     "name": "stdout",
     "output_type": "stream",
     "text": [
      "Parámetros utilizados: \n",
      " [['alpha' 0.0001]\n",
      " ['average' False]\n",
      " ['class_weight' None]\n",
      " ['early_stopping' False]\n",
      " ['epsilon' 0.1]\n",
      " ['eta0' 0.0]\n",
      " ['fit_intercept' True]\n",
      " ['l1_ratio' 0.15]\n",
      " ['learning_rate' 'optimal']\n",
      " ['loss' 'hinge']\n",
      " ['max_iter' 1000]\n",
      " ['n_iter_no_change' 5]\n",
      " ['n_jobs' None]\n",
      " ['penalty' 'l2']\n",
      " ['power_t' 0.5]\n",
      " ['random_state' 42]\n",
      " ['shuffle' True]\n",
      " ['tol' 0.001]\n",
      " ['validation_fraction' 0.1]\n",
      " ['verbose' 0]\n",
      " ['warm_start' False]]\n"
     ]
    }
   ],
   "source": [
    "SGD = SGDClassifier(random_state=42)\n",
    "\n",
    "print('Parámetros utilizados: \\n', np.array(list(SGD.get_params(deep=False).items())))"
   ]
  },
  {
   "cell_type": "markdown",
   "metadata": {},
   "source": [
    "### Entrenamiento"
   ]
  },
  {
   "cell_type": "code",
   "execution_count": 4,
   "metadata": {},
   "outputs": [
    {
     "data": {
      "text/plain": [
       "SGDClassifier(alpha=0.0001, average=False, class_weight=None,\n",
       "              early_stopping=False, epsilon=0.1, eta0=0.0, fit_intercept=True,\n",
       "              l1_ratio=0.15, learning_rate='optimal', loss='hinge',\n",
       "              max_iter=1000, n_iter_no_change=5, n_jobs=None, penalty='l2',\n",
       "              power_t=0.5, random_state=42, shuffle=True, tol=0.001,\n",
       "              validation_fraction=0.1, verbose=0, warm_start=False)"
      ]
     },
     "execution_count": 4,
     "metadata": {},
     "output_type": "execute_result"
    }
   ],
   "source": [
    "SGD.fit(X_train, y_train)"
   ]
  },
  {
   "cell_type": "markdown",
   "metadata": {},
   "source": [
    "### Predicción con el conjuto de datos de entrenamient y test"
   ]
  },
  {
   "cell_type": "code",
   "execution_count": 5,
   "metadata": {},
   "outputs": [],
   "source": [
    "y_train_SGD = SGD.predict(X_train)\n",
    "y_test_SGD = SGD.predict(X_test)"
   ]
  },
  {
   "cell_type": "markdown",
   "metadata": {},
   "source": [
    "#### Se imprimen las métricas de desempeño\n",
    "\n",
    "* Accuracy\n",
    "* Precision\n",
    "* Recall\n",
    "* F1-score\n",
    "* Matriz de confusión"
   ]
  },
  {
   "cell_type": "code",
   "execution_count": 6,
   "metadata": {},
   "outputs": [
    {
     "name": "stdout",
     "output_type": "stream",
     "text": [
      "************************************************************\n",
      "Métricas Train:\n",
      "              precision    recall  f1-score   support\n",
      "\n",
      "           0      0.706     0.153     0.252      2899\n",
      "           1      0.816     0.983     0.892     11044\n",
      "\n",
      "    accuracy                          0.811     13943\n",
      "   macro avg      0.761     0.568     0.572     13943\n",
      "weighted avg      0.793     0.811     0.759     13943\n",
      "\n",
      "Confusion Matrix: \n",
      "[[  444  2455]\n",
      " [  185 10859]]\n",
      "------------------------------------------------------------\n",
      "Métricas Test:\n",
      "              precision    recall  f1-score   support\n",
      "\n",
      "           0      0.669     0.119     0.202       699\n",
      "           1      0.817     0.985     0.893      2787\n",
      "\n",
      "    accuracy                          0.812      3486\n",
      "   macro avg      0.743     0.552     0.547      3486\n",
      "weighted avg      0.787     0.812     0.755      3486\n",
      "\n",
      "Confusion Matrix: \n",
      "[[  83  616]\n",
      " [  41 2746]]\n",
      "------------------------------------------------------------\n"
     ]
    }
   ],
   "source": [
    "print('************************************************************')\n",
    "cm_train = basic_metrics(y_train, y_train_SGD, 'Train')\n",
    "print('------------------------------------------------------------')\n",
    "cm_test = basic_metrics(y_test, y_test_SGD, 'Test')\n",
    "print('------------------------------------------------------------')"
   ]
  },
  {
   "cell_type": "markdown",
   "metadata": {},
   "source": [
    "#### Matrices de confusion para conjunto de entrenamiento y prueba"
   ]
  },
  {
   "cell_type": "code",
   "execution_count": 7,
   "metadata": {},
   "outputs": [
    {
     "data": {
      "image/png": "[encoded data removed]",
      "text/plain": [
       "<Figure size 720x432 with 1 Axes>"
      ]
     },
     "metadata": {
      "needs_background": "light"
     },
     "output_type": "display_data"
    },
    {
     "data": {
      "image/png": "[encoded data removed]",
      "text/plain": [
       "<Figure size 720x432 with 1 Axes>"
      ]
     },
     "metadata": {
      "needs_background": "light"
     },
     "output_type": "display_data"
    }
   ],
   "source": [
    "# Train Matriz de confusion\n",
    "plot_cm(cm_train, figsize=(10,6), title='Train', cmap='Blues');\n",
    "\n",
    "# Test Matriz de confusion\n",
    "plot_cm(cm_test, figsize=(10,6), title='Test', cmap='Blues');"
   ]
  },
  {
   "cell_type": "markdown",
   "metadata": {},
   "source": [
    "#### Curvas ROC y Precission vs. Recall para conjuto de entrenamiento y prueba"
   ]
  },
  {
   "cell_type": "code",
   "execution_count": 8,
   "metadata": {},
   "outputs": [
    {
     "data": {
      "image/png": "[encoded data removed]",
      "text/plain": [
       "<Figure size 1008x432 with 2 Axes>"
      ]
     },
     "metadata": {
      "needs_background": "light"
     },
     "output_type": "display_data"
    },
    {
     "data": {
      "image/png": "[encoded data removed]",
      "text/plain": [
       "<Figure size 1008x432 with 2 Axes>"
      ]
     },
     "metadata": {
      "needs_background": "light"
     },
     "output_type": "display_data"
    }
   ],
   "source": [
    "plot_roc_pr(y_train, y_train_SGD, Title='Train', x_text=0.4, y_text=0.2, size_text=12, size=(14,6), ms=15, colorR=RED, colorP=BLUE, label=None);\n",
    "plot_roc_pr(y_test, y_test_SGD, Title='Test', x_text=0.4, y_text=0.2, size_text=12, size=(14,6), ms=15, colorR=RED, colorP=BLUE, label=None);"
   ]
  },
  {
   "cell_type": "markdown",
   "metadata": {},
   "source": [
    "## **Ejercicio 2.2: Ajuste de Hiperparámetros**"
   ]
  },
  {
   "cell_type": "code",
   "execution_count": 9,
   "metadata": {},
   "outputs": [],
   "source": [
    "SGD = SGDClassifier(penalty='elasticnet', random_state=42)"
   ]
  },
  {
   "cell_type": "markdown",
   "metadata": {},
   "source": [
    "#### Opciones de parámetros"
   ]
  },
  {
   "cell_type": "code",
   "execution_count": 10,
   "metadata": {},
   "outputs": [],
   "source": [
    "param_grid_GD2 = [\n",
    "  {'learning_rate': ['constant', 'adaptive'],\n",
    "          'loss': ['hinge', 'log', 'modified_huber', 'squared_hinge'],\n",
    "          'l1_ratio': list(np.linspace(0, 1, 11))+[0.15], #Para que exista el Default\n",
    "          'alpha': np.logspace(-5, 0, 6),\n",
    "          'eta0': np.logspace(-5, 0, 6)\n",
    "          },\n",
    "  {'learning_rate': ['optimal'],\n",
    "          'loss': ['hinge', 'log', 'modified_huber', 'squared_hinge'],\n",
    "          'l1_ratio': list(np.linspace(0, 1, 11))+[0.15], #Para que exista el Default\n",
    "          'alpha': np.logspace(-5, 0, 6),\n",
    "          'eta0': [0] #No utilizado al ser Optimal\n",
    "          }\n",
    "]"
   ]
  },
  {
   "cell_type": "markdown",
   "metadata": {},
   "source": [
    "#### Utilizamos grid-search con 5-fold cross-validation"
   ]
  },
  {
   "cell_type": "code",
   "execution_count": 11,
   "metadata": {},
   "outputs": [
    {
     "name": "stdout",
     "output_type": "stream",
     "text": [
      "Fitting 5 folds for each of 3744 candidates, totalling 18720 fits\n"
     ]
    },
    {
     "name": "stderr",
     "output_type": "stream",
     "text": [
      "[Parallel(n_jobs=-1)]: Using backend LokyBackend with 8 concurrent workers.\n",
      "[Parallel(n_jobs=-1)]: Done   9 tasks      | elapsed:    1.5s\n",
      "[Parallel(n_jobs=-1)]: Done  82 tasks      | elapsed:    3.0s\n",
      "[Parallel(n_jobs=-1)]: Done 205 tasks      | elapsed:    5.8s\n",
      "[Parallel(n_jobs=-1)]: Done 376 tasks      | elapsed:    9.4s\n",
      "[Parallel(n_jobs=-1)]: Done 674 tasks      | elapsed:   14.5s\n",
      "[Parallel(n_jobs=-1)]: Done 1212 tasks      | elapsed:   22.7s\n",
      "[Parallel(n_jobs=-1)]: Done 1850 tasks      | elapsed:   33.3s\n",
      "[Parallel(n_jobs=-1)]: Done 2584 tasks      | elapsed:   55.0s\n",
      "[Parallel(n_jobs=-1)]: Done 3418 tasks      | elapsed:  1.3min\n",
      "[Parallel(n_jobs=-1)]: Done 4348 tasks      | elapsed:  1.6min\n",
      "[Parallel(n_jobs=-1)]: Done 5378 tasks      | elapsed:  2.0min\n",
      "[Parallel(n_jobs=-1)]: Done 6504 tasks      | elapsed:  2.5min\n",
      "[Parallel(n_jobs=-1)]: Done 7730 tasks      | elapsed:  2.9min\n",
      "[Parallel(n_jobs=-1)]: Done 9052 tasks      | elapsed:  3.5min\n",
      "[Parallel(n_jobs=-1)]: Done 10474 tasks      | elapsed:  3.9min\n",
      "[Parallel(n_jobs=-1)]: Done 11992 tasks      | elapsed:  4.6min\n",
      "[Parallel(n_jobs=-1)]: Done 13610 tasks      | elapsed:  5.0min\n",
      "[Parallel(n_jobs=-1)]: Done 15324 tasks      | elapsed:  5.7min\n",
      "[Parallel(n_jobs=-1)]: Done 17138 tasks      | elapsed:  6.2min\n",
      "[Parallel(n_jobs=-1)]: Done 18568 tasks      | elapsed:  7.7min\n",
      "[Parallel(n_jobs=-1)]: Done 18720 out of 18720 | elapsed:  7.8min finished\n"
     ]
    }
   ],
   "source": [
    "GSCV = GridSearchCV(SGD, param_grid_GD2, cv=5, scoring=['accuracy', 'precision_weighted', 'recall_weighted', 'f1_weighted'], refit=False, n_jobs=-1, verbose=4)\n",
    "GSCV.fit(X_train, y_train);"
   ]
  },
  {
   "cell_type": "code",
   "execution_count": 12,
   "metadata": {},
   "outputs": [
    {
     "data": {
      "text/plain": [
       "Index(['mean_fit_time', 'std_fit_time', 'mean_score_time', 'std_score_time',\n",
       "       'param_alpha', 'param_eta0', 'param_l1_ratio', 'param_learning_rate',\n",
       "       'param_loss', 'params', 'split0_test_accuracy', 'split1_test_accuracy',\n",
       "       'split2_test_accuracy', 'split3_test_accuracy', 'split4_test_accuracy',\n",
       "       'mean_test_accuracy', 'std_test_accuracy', 'rank_test_accuracy',\n",
       "       'split0_test_precision_weighted', 'split1_test_precision_weighted',\n",
       "       'split2_test_precision_weighted', 'split3_test_precision_weighted',\n",
       "       'split4_test_precision_weighted', 'mean_test_precision_weighted',\n",
       "       'std_test_precision_weighted', 'rank_test_precision_weighted',\n",
       "       'split0_test_recall_weighted', 'split1_test_recall_weighted',\n",
       "       'split2_test_recall_weighted', 'split3_test_recall_weighted',\n",
       "       'split4_test_recall_weighted', 'mean_test_recall_weighted',\n",
       "       'std_test_recall_weighted', 'rank_test_recall_weighted',\n",
       "       'split0_test_f1_weighted', 'split1_test_f1_weighted',\n",
       "       'split2_test_f1_weighted', 'split3_test_f1_weighted',\n",
       "       'split4_test_f1_weighted', 'mean_test_f1_weighted',\n",
       "       'std_test_f1_weighted', 'rank_test_f1_weighted'],\n",
       "      dtype='object')"
      ]
     },
     "execution_count": 12,
     "metadata": {},
     "output_type": "execute_result"
    }
   ],
   "source": [
    "# Pasamos a DF los Resultados\n",
    "Res_GSCV = pd.DataFrame(GSCV.cv_results_)\n",
    "\n",
    "# Salvamos los resultados para analizarlos fuera del notebook\n",
    "# Res_GSCV.to_csv('./results_to_analyze.csv')\n",
    "\n",
    "# Imprimimos las columnas para tener una guia de los datos diponibles.\n",
    "Res_GSCV.columns"
   ]
  },
  {
   "cell_type": "code",
   "execution_count": 13,
   "metadata": {},
   "outputs": [
    {
     "data": {
      "text/html": [
       "<div>\n",
       "<style scoped>\n",
       "    .dataframe tbody tr th:only-of-type {\n",
       "        vertical-align: middle;\n",
       "    }\n",
       "\n",
       "    .dataframe tbody tr th {\n",
       "        vertical-align: top;\n",
       "    }\n",
       "\n",
       "    .dataframe thead th {\n",
       "        text-align: right;\n",
       "    }\n",
       "</style>\n",
       "<table border=\"1\" class=\"dataframe\">\n",
       "  <thead>\n",
       "    <tr style=\"text-align: right;\">\n",
       "      <th></th>\n",
       "      <th>mean_fit_time</th>\n",
       "      <th>std_fit_time</th>\n",
       "      <th>mean_score_time</th>\n",
       "      <th>std_score_time</th>\n",
       "      <th>param_alpha</th>\n",
       "      <th>param_eta0</th>\n",
       "      <th>param_l1_ratio</th>\n",
       "      <th>param_learning_rate</th>\n",
       "      <th>param_loss</th>\n",
       "      <th>params</th>\n",
       "      <th>...</th>\n",
       "      <th>std_test_recall_weighted</th>\n",
       "      <th>rank_test_recall_weighted</th>\n",
       "      <th>split0_test_f1_weighted</th>\n",
       "      <th>split1_test_f1_weighted</th>\n",
       "      <th>split2_test_f1_weighted</th>\n",
       "      <th>split3_test_f1_weighted</th>\n",
       "      <th>split4_test_f1_weighted</th>\n",
       "      <th>mean_test_f1_weighted</th>\n",
       "      <th>std_test_f1_weighted</th>\n",
       "      <th>rank_test_f1_weighted</th>\n",
       "    </tr>\n",
       "  </thead>\n",
       "  <tbody>\n",
       "    <tr>\n",
       "      <th>0</th>\n",
       "      <td>0.156257</td>\n",
       "      <td>0.012673</td>\n",
       "      <td>0.009407</td>\n",
       "      <td>0.001832</td>\n",
       "      <td>1e-05</td>\n",
       "      <td>1e-05</td>\n",
       "      <td>0</td>\n",
       "      <td>constant</td>\n",
       "      <td>hinge</td>\n",
       "      <td>{'alpha': 1e-05, 'eta0': 1e-05, 'l1_ratio': 0....</td>\n",
       "      <td>...</td>\n",
       "      <td>0.002291</td>\n",
       "      <td>1501</td>\n",
       "      <td>0.744311</td>\n",
       "      <td>0.749892</td>\n",
       "      <td>0.753939</td>\n",
       "      <td>0.744939</td>\n",
       "      <td>0.757062</td>\n",
       "      <td>0.750029</td>\n",
       "      <td>0.004967</td>\n",
       "      <td>1729</td>\n",
       "    </tr>\n",
       "    <tr>\n",
       "      <th>1</th>\n",
       "      <td>0.290435</td>\n",
       "      <td>0.020930</td>\n",
       "      <td>0.007574</td>\n",
       "      <td>0.000249</td>\n",
       "      <td>1e-05</td>\n",
       "      <td>1e-05</td>\n",
       "      <td>0</td>\n",
       "      <td>constant</td>\n",
       "      <td>log</td>\n",
       "      <td>{'alpha': 1e-05, 'eta0': 1e-05, 'l1_ratio': 0....</td>\n",
       "      <td>...</td>\n",
       "      <td>0.004075</td>\n",
       "      <td>31</td>\n",
       "      <td>0.755878</td>\n",
       "      <td>0.757872</td>\n",
       "      <td>0.768967</td>\n",
       "      <td>0.760270</td>\n",
       "      <td>0.771888</td>\n",
       "      <td>0.762975</td>\n",
       "      <td>0.006310</td>\n",
       "      <td>12</td>\n",
       "    </tr>\n",
       "    <tr>\n",
       "      <th>2</th>\n",
       "      <td>0.059089</td>\n",
       "      <td>0.005670</td>\n",
       "      <td>0.006710</td>\n",
       "      <td>0.000544</td>\n",
       "      <td>1e-05</td>\n",
       "      <td>1e-05</td>\n",
       "      <td>0</td>\n",
       "      <td>constant</td>\n",
       "      <td>modified_huber</td>\n",
       "      <td>{'alpha': 1e-05, 'eta0': 1e-05, 'l1_ratio': 0....</td>\n",
       "      <td>...</td>\n",
       "      <td>0.003659</td>\n",
       "      <td>1114</td>\n",
       "      <td>0.749383</td>\n",
       "      <td>0.752591</td>\n",
       "      <td>0.760827</td>\n",
       "      <td>0.753869</td>\n",
       "      <td>0.765310</td>\n",
       "      <td>0.756396</td>\n",
       "      <td>0.005816</td>\n",
       "      <td>789</td>\n",
       "    </tr>\n",
       "    <tr>\n",
       "      <th>3</th>\n",
       "      <td>0.064247</td>\n",
       "      <td>0.003653</td>\n",
       "      <td>0.007579</td>\n",
       "      <td>0.000489</td>\n",
       "      <td>1e-05</td>\n",
       "      <td>1e-05</td>\n",
       "      <td>0</td>\n",
       "      <td>constant</td>\n",
       "      <td>squared_hinge</td>\n",
       "      <td>{'alpha': 1e-05, 'eta0': 1e-05, 'l1_ratio': 0....</td>\n",
       "      <td>...</td>\n",
       "      <td>0.003523</td>\n",
       "      <td>956</td>\n",
       "      <td>0.749629</td>\n",
       "      <td>0.753273</td>\n",
       "      <td>0.760827</td>\n",
       "      <td>0.753869</td>\n",
       "      <td>0.764918</td>\n",
       "      <td>0.756503</td>\n",
       "      <td>0.005552</td>\n",
       "      <td>661</td>\n",
       "    </tr>\n",
       "    <tr>\n",
       "      <th>4</th>\n",
       "      <td>0.180022</td>\n",
       "      <td>0.017685</td>\n",
       "      <td>0.012100</td>\n",
       "      <td>0.003040</td>\n",
       "      <td>1e-05</td>\n",
       "      <td>1e-05</td>\n",
       "      <td>0</td>\n",
       "      <td>adaptive</td>\n",
       "      <td>hinge</td>\n",
       "      <td>{'alpha': 1e-05, 'eta0': 1e-05, 'l1_ratio': 0....</td>\n",
       "      <td>...</td>\n",
       "      <td>0.002224</td>\n",
       "      <td>1645</td>\n",
       "      <td>0.744311</td>\n",
       "      <td>0.749892</td>\n",
       "      <td>0.753939</td>\n",
       "      <td>0.744939</td>\n",
       "      <td>0.757230</td>\n",
       "      <td>0.750062</td>\n",
       "      <td>0.005015</td>\n",
       "      <td>1711</td>\n",
       "    </tr>\n",
       "    <tr>\n",
       "      <th>...</th>\n",
       "      <td>...</td>\n",
       "      <td>...</td>\n",
       "      <td>...</td>\n",
       "      <td>...</td>\n",
       "      <td>...</td>\n",
       "      <td>...</td>\n",
       "      <td>...</td>\n",
       "      <td>...</td>\n",
       "      <td>...</td>\n",
       "      <td>...</td>\n",
       "      <td>...</td>\n",
       "      <td>...</td>\n",
       "      <td>...</td>\n",
       "      <td>...</td>\n",
       "      <td>...</td>\n",
       "      <td>...</td>\n",
       "      <td>...</td>\n",
       "      <td>...</td>\n",
       "      <td>...</td>\n",
       "      <td>...</td>\n",
       "      <td>...</td>\n",
       "    </tr>\n",
       "    <tr>\n",
       "      <th>3739</th>\n",
       "      <td>0.825433</td>\n",
       "      <td>0.983021</td>\n",
       "      <td>0.008954</td>\n",
       "      <td>0.003083</td>\n",
       "      <td>1</td>\n",
       "      <td>0</td>\n",
       "      <td>1</td>\n",
       "      <td>optimal</td>\n",
       "      <td>squared_hinge</td>\n",
       "      <td>{'alpha': 1.0, 'eta0': 0, 'l1_ratio': 1.0, 'le...</td>\n",
       "      <td>...</td>\n",
       "      <td>0.033868</td>\n",
       "      <td>3287</td>\n",
       "      <td>0.705710</td>\n",
       "      <td>0.700127</td>\n",
       "      <td>0.700127</td>\n",
       "      <td>0.700024</td>\n",
       "      <td>0.700518</td>\n",
       "      <td>0.701301</td>\n",
       "      <td>0.002211</td>\n",
       "      <td>2989</td>\n",
       "    </tr>\n",
       "    <tr>\n",
       "      <th>3740</th>\n",
       "      <td>0.041497</td>\n",
       "      <td>0.010689</td>\n",
       "      <td>0.010040</td>\n",
       "      <td>0.000695</td>\n",
       "      <td>1</td>\n",
       "      <td>0</td>\n",
       "      <td>0.15</td>\n",
       "      <td>optimal</td>\n",
       "      <td>hinge</td>\n",
       "      <td>{'alpha': 1.0, 'eta0': 0, 'l1_ratio': 0.15, 'l...</td>\n",
       "      <td>...</td>\n",
       "      <td>0.000124</td>\n",
       "      <td>2623</td>\n",
       "      <td>0.700127</td>\n",
       "      <td>0.700127</td>\n",
       "      <td>0.700127</td>\n",
       "      <td>0.700024</td>\n",
       "      <td>0.700518</td>\n",
       "      <td>0.700184</td>\n",
       "      <td>0.000171</td>\n",
       "      <td>3010</td>\n",
       "    </tr>\n",
       "    <tr>\n",
       "      <th>3741</th>\n",
       "      <td>0.056685</td>\n",
       "      <td>0.005306</td>\n",
       "      <td>0.010112</td>\n",
       "      <td>0.000896</td>\n",
       "      <td>1</td>\n",
       "      <td>0</td>\n",
       "      <td>0.15</td>\n",
       "      <td>optimal</td>\n",
       "      <td>log</td>\n",
       "      <td>{'alpha': 1.0, 'eta0': 0, 'l1_ratio': 0.15, 'l...</td>\n",
       "      <td>...</td>\n",
       "      <td>0.000124</td>\n",
       "      <td>2623</td>\n",
       "      <td>0.700127</td>\n",
       "      <td>0.700127</td>\n",
       "      <td>0.700127</td>\n",
       "      <td>0.700024</td>\n",
       "      <td>0.700518</td>\n",
       "      <td>0.700184</td>\n",
       "      <td>0.000171</td>\n",
       "      <td>3010</td>\n",
       "    </tr>\n",
       "    <tr>\n",
       "      <th>3742</th>\n",
       "      <td>0.050905</td>\n",
       "      <td>0.007938</td>\n",
       "      <td>0.009708</td>\n",
       "      <td>0.000220</td>\n",
       "      <td>1</td>\n",
       "      <td>0</td>\n",
       "      <td>0.15</td>\n",
       "      <td>optimal</td>\n",
       "      <td>modified_huber</td>\n",
       "      <td>{'alpha': 1.0, 'eta0': 0, 'l1_ratio': 0.15, 'l...</td>\n",
       "      <td>...</td>\n",
       "      <td>0.001051</td>\n",
       "      <td>2596</td>\n",
       "      <td>0.706908</td>\n",
       "      <td>0.700983</td>\n",
       "      <td>0.702687</td>\n",
       "      <td>0.700024</td>\n",
       "      <td>0.700518</td>\n",
       "      <td>0.702224</td>\n",
       "      <td>0.002508</td>\n",
       "      <td>2972</td>\n",
       "    </tr>\n",
       "    <tr>\n",
       "      <th>3743</th>\n",
       "      <td>0.215514</td>\n",
       "      <td>0.220353</td>\n",
       "      <td>0.010025</td>\n",
       "      <td>0.000874</td>\n",
       "      <td>1</td>\n",
       "      <td>0</td>\n",
       "      <td>0.15</td>\n",
       "      <td>optimal</td>\n",
       "      <td>squared_hinge</td>\n",
       "      <td>{'alpha': 1.0, 'eta0': 0, 'l1_ratio': 0.15, 'l...</td>\n",
       "      <td>...</td>\n",
       "      <td>0.000374</td>\n",
       "      <td>2609</td>\n",
       "      <td>0.700983</td>\n",
       "      <td>0.700983</td>\n",
       "      <td>0.702687</td>\n",
       "      <td>0.700024</td>\n",
       "      <td>0.700518</td>\n",
       "      <td>0.701039</td>\n",
       "      <td>0.000897</td>\n",
       "      <td>2994</td>\n",
       "    </tr>\n",
       "  </tbody>\n",
       "</table>\n",
       "<p>3744 rows × 42 columns</p>\n",
       "</div>"
      ],
      "text/plain": [
       "      mean_fit_time  std_fit_time  mean_score_time  std_score_time  \\\n",
       "0          0.156257      0.012673         0.009407        0.001832   \n",
       "1          0.290435      0.020930         0.007574        0.000249   \n",
       "2          0.059089      0.005670         0.006710        0.000544   \n",
       "3          0.064247      0.003653         0.007579        0.000489   \n",
       "4          0.180022      0.017685         0.012100        0.003040   \n",
       "...             ...           ...              ...             ...   \n",
       "3739       0.825433      0.983021         0.008954        0.003083   \n",
       "3740       0.041497      0.010689         0.010040        0.000695   \n",
       "3741       0.056685      0.005306         0.010112        0.000896   \n",
       "3742       0.050905      0.007938         0.009708        0.000220   \n",
       "3743       0.215514      0.220353         0.010025        0.000874   \n",
       "\n",
       "     param_alpha param_eta0 param_l1_ratio param_learning_rate  \\\n",
       "0          1e-05      1e-05              0            constant   \n",
       "1          1e-05      1e-05              0            constant   \n",
       "2          1e-05      1e-05              0            constant   \n",
       "3          1e-05      1e-05              0            constant   \n",
       "4          1e-05      1e-05              0            adaptive   \n",
       "...          ...        ...            ...                 ...   \n",
       "3739           1          0              1             optimal   \n",
       "3740           1          0           0.15             optimal   \n",
       "3741           1          0           0.15             optimal   \n",
       "3742           1          0           0.15             optimal   \n",
       "3743           1          0           0.15             optimal   \n",
       "\n",
       "          param_loss                                             params  ...  \\\n",
       "0              hinge  {'alpha': 1e-05, 'eta0': 1e-05, 'l1_ratio': 0....  ...   \n",
       "1                log  {'alpha': 1e-05, 'eta0': 1e-05, 'l1_ratio': 0....  ...   \n",
       "2     modified_huber  {'alpha': 1e-05, 'eta0': 1e-05, 'l1_ratio': 0....  ...   \n",
       "3      squared_hinge  {'alpha': 1e-05, 'eta0': 1e-05, 'l1_ratio': 0....  ...   \n",
       "4              hinge  {'alpha': 1e-05, 'eta0': 1e-05, 'l1_ratio': 0....  ...   \n",
       "...              ...                                                ...  ...   \n",
       "3739   squared_hinge  {'alpha': 1.0, 'eta0': 0, 'l1_ratio': 1.0, 'le...  ...   \n",
       "3740           hinge  {'alpha': 1.0, 'eta0': 0, 'l1_ratio': 0.15, 'l...  ...   \n",
       "3741             log  {'alpha': 1.0, 'eta0': 0, 'l1_ratio': 0.15, 'l...  ...   \n",
       "3742  modified_huber  {'alpha': 1.0, 'eta0': 0, 'l1_ratio': 0.15, 'l...  ...   \n",
       "3743   squared_hinge  {'alpha': 1.0, 'eta0': 0, 'l1_ratio': 0.15, 'l...  ...   \n",
       "\n",
       "      std_test_recall_weighted  rank_test_recall_weighted  \\\n",
       "0                     0.002291                       1501   \n",
       "1                     0.004075                         31   \n",
       "2                     0.003659                       1114   \n",
       "3                     0.003523                        956   \n",
       "4                     0.002224                       1645   \n",
       "...                        ...                        ...   \n",
       "3739                  0.033868                       3287   \n",
       "3740                  0.000124                       2623   \n",
       "3741                  0.000124                       2623   \n",
       "3742                  0.001051                       2596   \n",
       "3743                  0.000374                       2609   \n",
       "\n",
       "      split0_test_f1_weighted  split1_test_f1_weighted  \\\n",
       "0                    0.744311                 0.749892   \n",
       "1                    0.755878                 0.757872   \n",
       "2                    0.749383                 0.752591   \n",
       "3                    0.749629                 0.753273   \n",
       "4                    0.744311                 0.749892   \n",
       "...                       ...                      ...   \n",
       "3739                 0.705710                 0.700127   \n",
       "3740                 0.700127                 0.700127   \n",
       "3741                 0.700127                 0.700127   \n",
       "3742                 0.706908                 0.700983   \n",
       "3743                 0.700983                 0.700983   \n",
       "\n",
       "      split2_test_f1_weighted  split3_test_f1_weighted  \\\n",
       "0                    0.753939                 0.744939   \n",
       "1                    0.768967                 0.760270   \n",
       "2                    0.760827                 0.753869   \n",
       "3                    0.760827                 0.753869   \n",
       "4                    0.753939                 0.744939   \n",
       "...                       ...                      ...   \n",
       "3739                 0.700127                 0.700024   \n",
       "3740                 0.700127                 0.700024   \n",
       "3741                 0.700127                 0.700024   \n",
       "3742                 0.702687                 0.700024   \n",
       "3743                 0.702687                 0.700024   \n",
       "\n",
       "      split4_test_f1_weighted  mean_test_f1_weighted  std_test_f1_weighted  \\\n",
       "0                    0.757062               0.750029              0.004967   \n",
       "1                    0.771888               0.762975              0.006310   \n",
       "2                    0.765310               0.756396              0.005816   \n",
       "3                    0.764918               0.756503              0.005552   \n",
       "4                    0.757230               0.750062              0.005015   \n",
       "...                       ...                    ...                   ...   \n",
       "3739                 0.700518               0.701301              0.002211   \n",
       "3740                 0.700518               0.700184              0.000171   \n",
       "3741                 0.700518               0.700184              0.000171   \n",
       "3742                 0.700518               0.702224              0.002508   \n",
       "3743                 0.700518               0.701039              0.000897   \n",
       "\n",
       "      rank_test_f1_weighted  \n",
       "0                      1729  \n",
       "1                        12  \n",
       "2                       789  \n",
       "3                       661  \n",
       "4                      1711  \n",
       "...                     ...  \n",
       "3739                   2989  \n",
       "3740                   3010  \n",
       "3741                   3010  \n",
       "3742                   2972  \n",
       "3743                   2994  \n",
       "\n",
       "[3744 rows x 42 columns]"
      ]
     },
     "execution_count": 13,
     "metadata": {},
     "output_type": "execute_result"
    }
   ],
   "source": [
    "Res_GSCV"
   ]
  },
  {
   "cell_type": "markdown",
   "metadata": {},
   "source": [
    "### Nos quedamos con los mejores modelos para cada métrica"
   ]
  },
  {
   "cell_type": "code",
   "execution_count": 14,
   "metadata": {},
   "outputs": [
    {
     "name": "stdout",
     "output_type": "stream",
     "text": [
      "Parametros para las mejores metricas:\n",
      "Accu: 0.81, params: {'alpha': 1e-05, 'eta0': 1e-05, 'l1_ratio': 0.8, 'learning_rate': 'constant', 'loss': 'log'}\n",
      "Prec: 0.81, params: {'alpha': 1.0, 'eta0': 1.0, 'l1_ratio': 0.15, 'learning_rate': 'adaptive', 'loss': 'modified_huber'}\n",
      "Reca: 0.81, params: {'alpha': 1e-05, 'eta0': 1e-05, 'l1_ratio': 0.8, 'learning_rate': 'constant', 'loss': 'log'}\n",
      "F1  : 0.76, params: {'alpha': 1e-05, 'eta0': 0, 'l1_ratio': 0.0, 'learning_rate': 'optimal', 'loss': 'log'}\n",
      "\n"
     ]
    }
   ],
   "source": [
    "best_accuracy = Res_GSCV.loc[Res_GSCV.rank_test_accuracy.idxmin()]\n",
    "best_precision = Res_GSCV.loc[Res_GSCV.rank_test_precision_weighted.idxmin()]\n",
    "best_recall = Res_GSCV.loc[Res_GSCV.rank_test_recall_weighted.idxmin()]\n",
    "best_f1 = Res_GSCV.loc[Res_GSCV.rank_test_f1_weighted.idxmin()]\n",
    "\n",
    "print('Parametros para las mejores metricas:\\n'\n",
    "      f'Accu: {best_accuracy.mean_test_accuracy:.2f}, params: {best_accuracy.params}\\n'\n",
    "      f'Prec: {best_precision.mean_test_precision_weighted:.2f}, params: {best_precision.params}\\n'\n",
    "      f'Reca: {best_recall.mean_test_recall_weighted:.2f}, params: {best_recall.params}\\n'\n",
    "     f'F1  : {best_f1.mean_test_f1_weighted:.2f}, params: {best_f1.params}\\n'\n",
    "     )"
   ]
  },
  {
   "cell_type": "markdown",
   "metadata": {},
   "source": [
    "### Entrenamos un modelo con la mejor configuración para cada métrica"
   ]
  },
  {
   "cell_type": "code",
   "execution_count": 15,
   "metadata": {},
   "outputs": [],
   "source": [
    "SGD_accu = SGDClassifier(**best_accuracy.params, penalty='elasticnet', random_state=42)\n",
    "SGD_prec = SGDClassifier(**best_precision.params, penalty='elasticnet', random_state=42)\n",
    "SGD_reca = SGDClassifier(**best_recall.params, penalty='elasticnet', random_state=42)\n",
    "SGD_f1  = SGDClassifier(**best_f1.params, penalty='elasticnet', random_state=42)\n",
    "\n",
    "SGD_accu.fit(X_train, y_train);\n",
    "SGD_prec.fit(X_train, y_train);\n",
    "SGD_reca.fit(X_train, y_train);\n",
    "SGD_f1.fit(X_train, y_train);"
   ]
  },
  {
   "cell_type": "markdown",
   "metadata": {},
   "source": [
    "#### Corremos los modelos con el conjunto de entrenamiento y prueba"
   ]
  },
  {
   "cell_type": "code",
   "execution_count": 16,
   "metadata": {},
   "outputs": [],
   "source": [
    "y_pred_accu_train = SGD_accu.predict(X_train)\n",
    "y_pred_accu_test  =  SGD_accu.predict(X_test)\n",
    "\n",
    "y_pred_prec_train = SGD_prec.predict(X_train)\n",
    "y_pred_prec_test  = SGD_prec.predict(X_test)\n",
    "\n",
    "y_pred_reca_train = SGD_reca.predict(X_train)\n",
    "y_pred_reca_test =  SGD_reca.predict(X_test)\n",
    "\n",
    "y_pred_f1_train = SGD_f1.predict(X_train)\n",
    "y_pred_f1_test =  SGD_f1.predict(X_test)"
   ]
  },
  {
   "cell_type": "markdown",
   "metadata": {},
   "source": [
    "#### Se imprimen las métricas de desempeño para cada modelo\n",
    "\n",
    "* Accuracy\n",
    "* Precision\n",
    "* Recall\n",
    "* F1-score\n",
    "* Matriz de confusión"
   ]
  },
  {
   "cell_type": "code",
   "execution_count": 17,
   "metadata": {},
   "outputs": [
    {
     "name": "stdout",
     "output_type": "stream",
     "text": [
      "************************************************************\n",
      "Métricas Accuracy Train:\n",
      "              precision    recall  f1-score   support\n",
      "\n",
      "           0      0.697     0.167     0.269      2899\n",
      "           1      0.818     0.981     0.892     11044\n",
      "\n",
      "    accuracy                          0.812     13943\n",
      "   macro avg      0.758     0.574     0.581     13943\n",
      "weighted avg      0.793     0.812     0.763     13943\n",
      "\n",
      "Confusion Matrix: \n",
      "[[  484  2415]\n",
      " [  210 10834]]\n",
      "------------------------------------------------------------\n",
      "Métricas Accuracy Test:\n",
      "              precision    recall  f1-score   support\n",
      "\n",
      "           0      0.685     0.140     0.233       699\n",
      "           1      0.820     0.984     0.895      2787\n",
      "\n",
      "    accuracy                          0.815      3486\n",
      "   macro avg      0.753     0.562     0.564      3486\n",
      "weighted avg      0.793     0.815     0.762      3486\n",
      "\n",
      "Confusion Matrix: \n",
      "[[  98  601]\n",
      " [  45 2742]]\n",
      "------------------------------------------------------------\n",
      "\n",
      "\n",
      "************************************************************\n",
      "Métricas Precision Train:\n",
      "              precision    recall  f1-score   support\n",
      "\n",
      "           0      0.865     0.016     0.030      2899\n",
      "           1      0.795     0.999     0.885     11044\n",
      "\n",
      "    accuracy                          0.795     13943\n",
      "   macro avg      0.830     0.507     0.458     13943\n",
      "weighted avg      0.809     0.795     0.708     13943\n",
      "\n",
      "Confusion Matrix: \n",
      "[[   45  2854]\n",
      " [    7 11037]]\n",
      "------------------------------------------------------------\n",
      "Métricas Precision Test:\n",
      "              precision    recall  f1-score   support\n",
      "\n",
      "           0      0.900     0.013     0.025       699\n",
      "           1      0.801     1.000     0.890      2787\n",
      "\n",
      "    accuracy                          0.802      3486\n",
      "   macro avg      0.851     0.506     0.458      3486\n",
      "weighted avg      0.821     0.802     0.716      3486\n",
      "\n",
      "Confusion Matrix: \n",
      "[[   9  690]\n",
      " [   1 2786]]\n",
      "------------------------------------------------------------\n",
      "\n",
      "\n",
      "************************************************************\n",
      "Métricas Recall Train:\n",
      "              precision    recall  f1-score   support\n",
      "\n",
      "           0      0.697     0.167     0.269      2899\n",
      "           1      0.818     0.981     0.892     11044\n",
      "\n",
      "    accuracy                          0.812     13943\n",
      "   macro avg      0.758     0.574     0.581     13943\n",
      "weighted avg      0.793     0.812     0.763     13943\n",
      "\n",
      "Confusion Matrix: \n",
      "[[  484  2415]\n",
      " [  210 10834]]\n",
      "------------------------------------------------------------\n",
      "Métricas Recall Test:\n",
      "              precision    recall  f1-score   support\n",
      "\n",
      "           0      0.685     0.140     0.233       699\n",
      "           1      0.820     0.984     0.895      2787\n",
      "\n",
      "    accuracy                          0.815      3486\n",
      "   macro avg      0.753     0.562     0.564      3486\n",
      "weighted avg      0.793     0.815     0.762      3486\n",
      "\n",
      "Confusion Matrix: \n",
      "[[  98  601]\n",
      " [  45 2742]]\n",
      "------------------------------------------------------------\n",
      "\n",
      "\n",
      "************************************************************\n",
      "Métricas F1 Train:\n",
      "              precision    recall  f1-score   support\n",
      "\n",
      "           0      0.450     0.410     0.429      2899\n",
      "           1      0.849     0.868     0.858     11044\n",
      "\n",
      "    accuracy                          0.773     13943\n",
      "   macro avg      0.649     0.639     0.644     13943\n",
      "weighted avg      0.766     0.773     0.769     13943\n",
      "\n",
      "Confusion Matrix: \n",
      "[[1188 1711]\n",
      " [1453 9591]]\n",
      "------------------------------------------------------------\n",
      "Métricas F1 Test:\n",
      "              precision    recall  f1-score   support\n",
      "\n",
      "           0      0.453     0.406     0.428       699\n",
      "           1      0.855     0.877     0.866      2787\n",
      "\n",
      "    accuracy                          0.783      3486\n",
      "   macro avg      0.654     0.642     0.647      3486\n",
      "weighted avg      0.774     0.783     0.778      3486\n",
      "\n",
      "Confusion Matrix: \n",
      "[[ 284  415]\n",
      " [ 343 2444]]\n",
      "------------------------------------------------------------\n",
      "\n",
      "\n"
     ]
    }
   ],
   "source": [
    "# Accuracy\n",
    "print('************************************************************')\n",
    "cm_train_accu = basic_metrics(y_train, y_pred_accu_train, 'Accuracy Train')\n",
    "print('------------------------------------------------------------')\n",
    "cm_test_accu = basic_metrics(y_test, y_pred_accu_test, 'Accuracy Test')\n",
    "print('------------------------------------------------------------\\n\\n')\n",
    "\n",
    "# Precission\n",
    "print('************************************************************')\n",
    "cm_train_prec = basic_metrics(y_train, y_pred_prec_train, 'Precision Train')\n",
    "print('------------------------------------------------------------')\n",
    "cm_test_prec = basic_metrics(y_test, y_pred_prec_test, 'Precision Test')\n",
    "print('------------------------------------------------------------\\n\\n')\n",
    "\n",
    "# Recall\n",
    "print('************************************************************')\n",
    "cm_train_reca = basic_metrics(y_train, y_pred_reca_train, 'Recall Train')\n",
    "print('------------------------------------------------------------')\n",
    "cm_test_reca = basic_metrics(y_test, y_pred_reca_test, 'Recall Test')\n",
    "print('------------------------------------------------------------\\n\\n')\n",
    "\n",
    "# F1-score\n",
    "print('************************************************************')\n",
    "cm_train_f1 = basic_metrics(y_train, y_pred_f1_train, 'F1 Train')\n",
    "print('------------------------------------------------------------')\n",
    "cm_test_f1 = basic_metrics(y_test, y_pred_f1_test, 'F1 Test')\n",
    "print('------------------------------------------------------------\\n\\n')"
   ]
  },
  {
   "cell_type": "markdown",
   "metadata": {},
   "source": [
    "#### Matriz de confusión para el modelo con mejor F1-score\n",
    "\n",
    "Tomamos este modelo debido a que es el que tiene mejor balance de precision y recall\n",
    "\n",
    "$\n",
    "F_1 = \\frac{2}{\\mathrm{recall}^{-1} + \\mathrm{precision}^{-1}} = 2 \\cdot \\frac{\\mathrm{precision} \\cdot \\mathrm{recall}}{\\mathrm{precision} + \\mathrm{recall}} = \\frac{\\mathrm tp}{\\mathrm{tp} + \\frac12 (\\mathrm{fp} + \\mathrm{fn}) } \n",
    "$"
   ]
  },
  {
   "cell_type": "code",
   "execution_count": 18,
   "metadata": {},
   "outputs": [
    {
     "data": {
      "image/png": "[encoded data removed]",
      "text/plain": [
       "<Figure size 720x432 with 1 Axes>"
      ]
     },
     "metadata": {
      "needs_background": "light"
     },
     "output_type": "display_data"
    },
    {
     "data": {
      "image/png": "[encoded data removed]",
      "text/plain": [
       "<Figure size 720x432 with 1 Axes>"
      ]
     },
     "metadata": {
      "needs_background": "light"
     },
     "output_type": "display_data"
    }
   ],
   "source": [
    "# Train Matriz de confusion\n",
    "plot_cm(cm_train_f1, figsize=(10,6), title='Best F1 Score Train', cmap='Blues');\n",
    "\n",
    "# Test Matriz de confusion\n",
    "plot_cm(cm_test_f1, figsize=(10,6), title='Best F1 Score Test', cmap='Blues');"
   ]
  },
  {
   "cell_type": "markdown",
   "metadata": {},
   "source": [
    "#### Curvas ROC y Precission vs. Recall para conjuto de entrenamiento y prueba\n",
    "\n",
    "Se observa una mejora en las curvas, en particular, el área bajo la curva ROC tiene un incremente, aunque marginal."
   ]
  },
  {
   "cell_type": "code",
   "execution_count": 19,
   "metadata": {},
   "outputs": [
    {
     "data": {
      "image/png": "[encoded data removed]",
      "text/plain": [
       "<Figure size 1008x432 with 2 Axes>"
      ]
     },
     "metadata": {
      "needs_background": "light"
     },
     "output_type": "display_data"
    },
    {
     "data": {
      "image/png": "[encoded data removed]",
      "text/plain": [
       "<Figure size 1008x432 with 2 Axes>"
      ]
     },
     "metadata": {
      "needs_background": "light"
     },
     "output_type": "display_data"
    }
   ],
   "source": [
    "plot_roc_pr(y_train, y_pred_f1_train, Title='Best F1 Train', x_text=0.4, y_text=0.2, size_text=12, size=(14,6), ms=15, colorR=ORANGE, colorP=GREEN, label=None);\n",
    "plot_roc_pr(y_test,  y_pred_f1_test,  Title='Best F1 Test',  x_text=0.4, y_text=0.2, size_text=12, size=(14,6), ms=15, colorR=ORANGE, colorP=GREEN, label=None);"
   ]
  }
 ],
 "metadata": {
  "kernelspec": {
   "display_name": "Python 3.7.4 64-bit ('vector': venv)",
   "language": "python",
   "name": "python37464bitvectorvenv0f03f6b45e724514963bb727a2706d5b"
  },
  "language_info": {
   "codemirror_mode": {
    "name": "ipython",
    "version": 3
   },
   "file_extension": ".py",
   "mimetype": "text/x-python",
   "name": "python",
   "nbconvert_exporter": "python",
   "pygments_lexer": "ipython3",
   "version": "3.7.4"
  }
 },
 "nbformat": 4,
 "nbformat_minor": 4
}
