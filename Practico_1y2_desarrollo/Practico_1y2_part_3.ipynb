{
  "nbformat": 4,
  "nbformat_minor": 0,
  "metadata": {
    "colab": {
      "name": "Practico_1y2_part_3.ipynb",
      "provenance": [],
      "collapsed_sections": []
    },
    "kernelspec": {
      "display_name": "Python 3.7.6 64-bit ('diplo': venv)",
      "name": "python37664bitdiplovenvc8f1cc3d26344ed08febef30f9915ee6"
    },
    "language_info": {
      "name": ""
    }
  },
  "cells": [
    {
      "cell_type": "markdown",
      "metadata": {
        "colab_type": "text",
        "id": "YFoq9Gefbq4S"
      },
      "source": [
        "# **Análisis, Visualización y Curación de Datos**\n",
        "\n",
        "# Consigna 3\n",
        "\n",
        "#### Elegir (al menos) tres variables, las cuales crean que pueden estar correlacionadas con la satisfacción del estudiante al terminar el diálogo. Para cada una de ellas calcular la probabilidad de que el estudiante dé una evaluación negativa (1 o 2), condicionada a esa variable.\n",
        "\n",
        "---"
      ]
    },
    {
      "cell_type": "markdown",
      "metadata": {
        "id": "XdDiEhP8AaeW",
        "colab_type": "text"
      },
      "source": [
        "## Importación de librerías"
      ]
    },
    {
      "cell_type": "code",
      "metadata": {
        "colab_type": "code",
        "id": "Pob2__qfbp1t",
        "colab": {
          "base_uri": "https://localhost:8080/",
          "height": 70
        },
        "outputId": "b58134b5-02dc-434e-b4a1-4b96a8719e18"
      },
      "source": [
        "# Cargo las librerías\n",
        "import os\n",
        "import pandas as pd\n",
        "import numpy as np\n",
        "import matplotlib.pyplot as plt\n",
        "import seaborn \n",
        "\n",
        "from columns_to_keep import C2K\n",
        "from type_to_fix import T2F"
      ],
      "execution_count": null,
      "outputs": [
        {
          "output_type": "stream",
          "text": [
            "/usr/local/lib/python3.6/dist-packages/statsmodels/tools/_testing.py:19: FutureWarning: pandas.util.testing is deprecated. Use the functions in the public API at pandas.testing instead.\n",
            "  import pandas.util.testing as tm\n"
          ],
          "name": "stderr"
        }
      ]
    },
    {
      "cell_type": "markdown",
      "metadata": {
        "colab_type": "text",
        "id": "GurgIvzFhqFO"
      },
      "source": [
        "## Carga de la tabla de metadata\n",
        "---\n"
      ]
    },
    {
      "cell_type": "code",
      "metadata": {
        "id": "miuQOLTLY2kQ",
        "colab_type": "code",
        "colab": {}
      },
      "source": [
        "data_dir = os.path.join('..', 'dataset')\n",
        "data_file_name = 'datadump-20150801-20171219.csv'\n",
        "full_data_file_name = os.path.join(data_dir, data_file_name)\n",
        "df = pd.read_csv(full_data_file_name)\n",
        "display(df.shape)\n"
      ],
      "execution_count": null,
      "outputs": []
    },
    {
      "cell_type": "code",
      "metadata": {
        "id": "GcywolF4b5S1",
        "colab_type": "code",
        "colab": {
          "base_uri": "https://localhost:8080/",
          "height": 34
        },
        "outputId": "ca87d666-a31a-4d25-86c6-82553ead6707"
      },
      "source": [
        "df = pd.read_csv('datadump-20150801-20171219.csv', low_memory=False)\n",
        "display(df.shape)"
      ],
      "execution_count": null,
      "outputs": [
        {
          "output_type": "display_data",
          "data": {
            "text/plain": [
              "(63265, 111)"
            ]
          },
          "metadata": {
            "tags": []
          }
        }
      ]
    },
    {
      "cell_type": "code",
      "metadata": {
        "colab_type": "code",
        "id": "OB8aN6q6WLbl",
        "colab": {
          "base_uri": "https://localhost:8080/",
          "height": 34
        },
        "outputId": "2e303b5b-78c1-49dd-cfec-2cbcb0c4d127"
      },
      "source": [
        "# Remuevo espacios al inicio y final del nombre de la columna\n",
        "df.columns = [column.strip() for column in df.columns]\n",
        "\n",
        "# Selecciono solo las columnas que vamos a necesitar\n",
        "df = df[C2K]\n",
        "\n",
        "# Se corrigen los tipos de los datos \n",
        "df = df.astype(T2F)\n",
        "\n",
        "# se eliminan los valores iguales a cero en la variable student_rating, ya que dicha variable sólo puede tomar valores entre 1 y 5.\n",
        "df = df.drop(df[df.student_rating==0].index)\n",
        "print(\"El dataframe tiene\", df.shape[0], \"filas y \", df.shape[1], \"columnas.\")"
      ],
      "execution_count": null,
      "outputs": [
        {
          "output_type": "stream",
          "text": [
            "El dataframe tiene 63251 filas y  39 columnas.\n"
          ],
          "name": "stdout"
        }
      ]
    },
    {
      "cell_type": "markdown",
      "metadata": {
        "colab_type": "text",
        "id": "Q2D3UQKlbmNl"
      },
      "source": [
        "## Pre-procesamiento de los datos\n",
        "---\n",
        "\n",
        "#### Pasos:\n",
        "\n",
        "1.   Selección de las variables que se analizaran para determinar si las mismas tienen una correlación positiva con la variable **student_rating**, con el fin de determinar si dichas variables **wait_time, avg_tutor_response_time  y feedback_score.** influyen sobre  el puntaje asignado al tutor (student_rating).\n",
        "1. Eliminación de los valores NA de las variables seleccionadas.\n",
        "1. Convierto las variables wait_time y avg_tutor_response_time de segundos a minutos.\n",
        "1. Se grafica la relación entre student_rating y las variables elegidas.\n",
        "1. Cálculo del coeficiente de correlación de Spearman."
      ]
    },
    {
      "cell_type": "markdown",
      "metadata": {
        "id": "o2VHZdHEBdEF",
        "colab_type": "text"
      },
      "source": [
        "1. Las variables seleccionadas para analizar la correlación son:\n",
        "  - **wait_time:** cuánto tiempo esperó el estudiante antes de ser emparejado con un tutor expresado en segundos ((escala entre 1 y 5).\n",
        "  - **avg_tutor_response_time:** tiempo promedio en segundos desde la presentación del estudiante hasta el enunciado del tutor.\n",
        "  - **feedback_score:** puntaje asignado a la sesión (escala entre 0 y 1)."
      ]
    },
    {
      "cell_type": "code",
      "metadata": {
        "colab_type": "code",
        "id": "f-89QnWFgSvN",
        "colab": {
          "base_uri": "https://localhost:8080/",
          "height": 435
        },
        "outputId": "3ffe8b25-5e56-4f00-fbf1-14dd6a6fd60b"
      },
      "source": [
        "# 1 y 2. \n",
        "df_sinNA = df.dropna(axis=0, subset=['student_rating', 'wait_time', 'avg_tutor_response_time', 'feedback_score'])\n",
        "\n",
        "df_graficos = df_sinNA.loc[:, ['student_rating', 'wait_time', 'avg_tutor_response_time', 'feedback_score']]\n",
        "display(df_graficos)\n",
        "df_graficos.shape\n",
        "print(\" \")\n",
        "print (\"Luego de la limpieza, obtengo un dataframe de\", df_sinNA.shape[0],\"filas y\", df_sinNA.shape[1], \"col.\")"
      ],
      "execution_count": null,
      "outputs": [
        {
          "output_type": "display_data",
          "data": {
            "text/html": [
              "<div>\n",
              "<style scoped>\n",
              "    .dataframe tbody tr th:only-of-type {\n",
              "        vertical-align: middle;\n",
              "    }\n",
              "\n",
              "    .dataframe tbody tr th {\n",
              "        vertical-align: top;\n",
              "    }\n",
              "\n",
              "    .dataframe thead th {\n",
              "        text-align: right;\n",
              "    }\n",
              "</style>\n",
              "<table border=\"1\" class=\"dataframe\">\n",
              "  <thead>\n",
              "    <tr style=\"text-align: right;\">\n",
              "      <th></th>\n",
              "      <th>student_rating</th>\n",
              "      <th>wait_time</th>\n",
              "      <th>avg_tutor_response_time</th>\n",
              "      <th>feedback_score</th>\n",
              "    </tr>\n",
              "  </thead>\n",
              "  <tbody>\n",
              "    <tr>\n",
              "      <th>0</th>\n",
              "      <td>4</td>\n",
              "      <td>45.310611</td>\n",
              "      <td>37.511199</td>\n",
              "      <td>0.4</td>\n",
              "    </tr>\n",
              "    <tr>\n",
              "      <th>2</th>\n",
              "      <td>1</td>\n",
              "      <td>10.116270</td>\n",
              "      <td>24.202020</td>\n",
              "      <td>0.0</td>\n",
              "    </tr>\n",
              "    <tr>\n",
              "      <th>4</th>\n",
              "      <td>5</td>\n",
              "      <td>7.960689</td>\n",
              "      <td>16.089307</td>\n",
              "      <td>0.8</td>\n",
              "    </tr>\n",
              "    <tr>\n",
              "      <th>5</th>\n",
              "      <td>5</td>\n",
              "      <td>4.961054</td>\n",
              "      <td>11.646825</td>\n",
              "      <td>1.0</td>\n",
              "    </tr>\n",
              "    <tr>\n",
              "      <th>7</th>\n",
              "      <td>5</td>\n",
              "      <td>5.874542</td>\n",
              "      <td>20.362733</td>\n",
              "      <td>0.9</td>\n",
              "    </tr>\n",
              "    <tr>\n",
              "      <th>...</th>\n",
              "      <td>...</td>\n",
              "      <td>...</td>\n",
              "      <td>...</td>\n",
              "      <td>...</td>\n",
              "    </tr>\n",
              "    <tr>\n",
              "      <th>63260</th>\n",
              "      <td>5</td>\n",
              "      <td>17.600104</td>\n",
              "      <td>25.465734</td>\n",
              "      <td>0.7</td>\n",
              "    </tr>\n",
              "    <tr>\n",
              "      <th>63261</th>\n",
              "      <td>5</td>\n",
              "      <td>10.166931</td>\n",
              "      <td>12.848288</td>\n",
              "      <td>1.0</td>\n",
              "    </tr>\n",
              "    <tr>\n",
              "      <th>63262</th>\n",
              "      <td>5</td>\n",
              "      <td>7.834611</td>\n",
              "      <td>11.901485</td>\n",
              "      <td>1.0</td>\n",
              "    </tr>\n",
              "    <tr>\n",
              "      <th>63263</th>\n",
              "      <td>5</td>\n",
              "      <td>6.487123</td>\n",
              "      <td>17.574211</td>\n",
              "      <td>1.0</td>\n",
              "    </tr>\n",
              "    <tr>\n",
              "      <th>63264</th>\n",
              "      <td>5</td>\n",
              "      <td>11.246611</td>\n",
              "      <td>16.045206</td>\n",
              "      <td>1.0</td>\n",
              "    </tr>\n",
              "  </tbody>\n",
              "</table>\n",
              "<p>44898 rows × 4 columns</p>\n",
              "</div>"
            ],
            "text/plain": [
              "       student_rating  wait_time  avg_tutor_response_time  feedback_score\n",
              "0                   4  45.310611                37.511199             0.4\n",
              "2                   1  10.116270                24.202020             0.0\n",
              "4                   5   7.960689                16.089307             0.8\n",
              "5                   5   4.961054                11.646825             1.0\n",
              "7                   5   5.874542                20.362733             0.9\n",
              "...               ...        ...                      ...             ...\n",
              "63260               5  17.600104                25.465734             0.7\n",
              "63261               5  10.166931                12.848288             1.0\n",
              "63262               5   7.834611                11.901485             1.0\n",
              "63263               5   6.487123                17.574211             1.0\n",
              "63264               5  11.246611                16.045206             1.0\n",
              "\n",
              "[44898 rows x 4 columns]"
            ]
          },
          "metadata": {
            "tags": []
          }
        },
        {
          "output_type": "stream",
          "text": [
            " \n",
            "Luego de la limpieza, obtengo un dataframe de 44898 filas y 39 col.\n"
          ],
          "name": "stdout"
        }
      ]
    },
    {
      "cell_type": "code",
      "metadata": {
        "id": "UH6XoQH9j2e9",
        "colab_type": "code",
        "colab": {
          "base_uri": "https://localhost:8080/",
          "height": 402
        },
        "outputId": "518a8b11-b644-439e-b4b4-b3ef4c5a8eb9"
      },
      "source": [
        "# 3. convierto de secs a minutos  \n",
        "df_graficos['wait_time'] = (df_sinNA['wait_time'] / 60)\n",
        "df_graficos['wait_time'] = round(df_graficos['wait_time'],1)\n",
        "\n",
        "df_graficos['avg_tutor_response_time'] = (df_sinNA['avg_tutor_response_time'] / 60)\n",
        "df_graficos['avg_tutor_response_time'] = round(df_graficos['avg_tutor_response_time'],1)\n",
        "display(df_graficos)"
      ],
      "execution_count": null,
      "outputs": [
        {
          "output_type": "display_data",
          "data": {
            "text/html": [
              "<div>\n",
              "<style scoped>\n",
              "    .dataframe tbody tr th:only-of-type {\n",
              "        vertical-align: middle;\n",
              "    }\n",
              "\n",
              "    .dataframe tbody tr th {\n",
              "        vertical-align: top;\n",
              "    }\n",
              "\n",
              "    .dataframe thead th {\n",
              "        text-align: right;\n",
              "    }\n",
              "</style>\n",
              "<table border=\"1\" class=\"dataframe\">\n",
              "  <thead>\n",
              "    <tr style=\"text-align: right;\">\n",
              "      <th></th>\n",
              "      <th>student_rating</th>\n",
              "      <th>wait_time</th>\n",
              "      <th>avg_tutor_response_time</th>\n",
              "      <th>feedback_score</th>\n",
              "    </tr>\n",
              "  </thead>\n",
              "  <tbody>\n",
              "    <tr>\n",
              "      <th>0</th>\n",
              "      <td>4</td>\n",
              "      <td>0.8</td>\n",
              "      <td>0.6</td>\n",
              "      <td>0.4</td>\n",
              "    </tr>\n",
              "    <tr>\n",
              "      <th>2</th>\n",
              "      <td>1</td>\n",
              "      <td>0.2</td>\n",
              "      <td>0.4</td>\n",
              "      <td>0.0</td>\n",
              "    </tr>\n",
              "    <tr>\n",
              "      <th>4</th>\n",
              "      <td>5</td>\n",
              "      <td>0.1</td>\n",
              "      <td>0.3</td>\n",
              "      <td>0.8</td>\n",
              "    </tr>\n",
              "    <tr>\n",
              "      <th>5</th>\n",
              "      <td>5</td>\n",
              "      <td>0.1</td>\n",
              "      <td>0.2</td>\n",
              "      <td>1.0</td>\n",
              "    </tr>\n",
              "    <tr>\n",
              "      <th>7</th>\n",
              "      <td>5</td>\n",
              "      <td>0.1</td>\n",
              "      <td>0.3</td>\n",
              "      <td>0.9</td>\n",
              "    </tr>\n",
              "    <tr>\n",
              "      <th>...</th>\n",
              "      <td>...</td>\n",
              "      <td>...</td>\n",
              "      <td>...</td>\n",
              "      <td>...</td>\n",
              "    </tr>\n",
              "    <tr>\n",
              "      <th>63260</th>\n",
              "      <td>5</td>\n",
              "      <td>0.3</td>\n",
              "      <td>0.4</td>\n",
              "      <td>0.7</td>\n",
              "    </tr>\n",
              "    <tr>\n",
              "      <th>63261</th>\n",
              "      <td>5</td>\n",
              "      <td>0.2</td>\n",
              "      <td>0.2</td>\n",
              "      <td>1.0</td>\n",
              "    </tr>\n",
              "    <tr>\n",
              "      <th>63262</th>\n",
              "      <td>5</td>\n",
              "      <td>0.1</td>\n",
              "      <td>0.2</td>\n",
              "      <td>1.0</td>\n",
              "    </tr>\n",
              "    <tr>\n",
              "      <th>63263</th>\n",
              "      <td>5</td>\n",
              "      <td>0.1</td>\n",
              "      <td>0.3</td>\n",
              "      <td>1.0</td>\n",
              "    </tr>\n",
              "    <tr>\n",
              "      <th>63264</th>\n",
              "      <td>5</td>\n",
              "      <td>0.2</td>\n",
              "      <td>0.3</td>\n",
              "      <td>1.0</td>\n",
              "    </tr>\n",
              "  </tbody>\n",
              "</table>\n",
              "<p>44898 rows × 4 columns</p>\n",
              "</div>"
            ],
            "text/plain": [
              "       student_rating  wait_time  avg_tutor_response_time  feedback_score\n",
              "0                   4        0.8                      0.6             0.4\n",
              "2                   1        0.2                      0.4             0.0\n",
              "4                   5        0.1                      0.3             0.8\n",
              "5                   5        0.1                      0.2             1.0\n",
              "7                   5        0.1                      0.3             0.9\n",
              "...               ...        ...                      ...             ...\n",
              "63260               5        0.3                      0.4             0.7\n",
              "63261               5        0.2                      0.2             1.0\n",
              "63262               5        0.1                      0.2             1.0\n",
              "63263               5        0.1                      0.3             1.0\n",
              "63264               5        0.2                      0.3             1.0\n",
              "\n",
              "[44898 rows x 4 columns]"
            ]
          },
          "metadata": {
            "tags": []
          }
        }
      ]
    },
    {
      "cell_type": "markdown",
      "metadata": {
        "colab_type": "text",
        "id": "gN04hrdqQMBc"
      },
      "source": [
        "## 4. **¿Existe alguna variable que influya sobre la satisfacción de los estudiantes?**\n",
        "\n",
        "La visualización de datos es una parte fundamental de cualquier análisis de datos, ya que no sólo se utiliza para comunicar los hallazgos o resultados finales  sino que también son de suma importancia en la etapa de exploración de datos para confirmar o rechazar hipótesis planteadas acerca de los datos  utilizados. Entonces para verificar si existe alguna variable que influya en la satisfacción de los estudiantes por un lado, se utilizarán gráficos y por el otro, se calculará el coeficiente de correlación de Spearman.\n",
        "A continuación utilizaremos tres tipos distintos de gráficos, primero un regplot o gráfico de regresión lineal, luego un scatterplot o gráfico de dispersión y por último un pairplot. Cada uno nos permitirá observar si existe  relación entre `student_rating` y las variables elegidas `wait_time`, `avg_tutor_response_time` y `feedback_score`.\n",
        "\n",
        "\n"
      ]
    },
    {
      "cell_type": "markdown",
      "metadata": {
        "id": "7xlCljb7TgA7",
        "colab_type": "text"
      },
      "source": [
        "##**Gráfico de regresión lineal entre las variables student_rating y wait_time**"
      ]
    },
    {
      "cell_type": "code",
      "metadata": {
        "colab_type": "code",
        "id": "uZCXJsbojQU_",
        "colab": {
          "base_uri": "https://localhost:8080/",
          "height": 419
        },
        "outputId": "d611a432-0b55-4bca-9113-a2f40a3dca87"
      },
      "source": [
        "# 4. Gráfico de regresión lineal entre student_rating y wait_time\n",
        "\n",
        "plt.figure(figsize=(12,6))\n",
        "seaborn.regplot(x=df_graficos.student_rating.astype(float), y=df_graficos.wait_time.astype(float), scatter_kws={'color':'blue', 'alpha':0.3},line_kws={'color':'green'})\n",
        "plt.title('¿Existe relación entre el puntaje asignado a los tutores\\n  y el tiempo de espera?',\n",
        "             fontsize=12, weight=\"bold\")\n",
        "plt.xlabel('Puntaje asignado al tutor')\n",
        "plt.ylabel('Tiempo de espera (en minutos)')\n",
        "plt.ylim([0.5, 60])\n",
        "plt.xlim([0.5, 5.5])\n",
        "seaborn.despine()\n",
        "plt.show()"
      ],
      "execution_count": null,
      "outputs": [
        {
          "output_type": "display_data",
          "data": {
            "image/png": "[encoded data removed]",
            "text/plain": [
              "<Figure size 864x432 with 1 Axes>"
            ]
          },
          "metadata": {
            "tags": [],
            "needs_background": "light"
          }
        }
      ]
    },
    {
      "cell_type": "markdown",
      "metadata": {
        "id": "JMYNnL5dzz7D",
        "colab_type": "text"
      },
      "source": [
        " Luego de observar el gráfico obtenido, se observan puntos dispersos y una recta que no aproxima  dichos valores, por lo que se evidencia que no existe una relación entre ambas variables, por lo tanto la variable `tiempo de espera `no influiría sobre el comportamiento de la variable `puntaje asignado a los tutores` . El cálculo del coeficiente de spearman en el punto 5 permitirá confirmar dicha afirmación."
      ]
    },
    {
      "cell_type": "markdown",
      "metadata": {
        "colab_type": "text",
        "id": "8T3qGPEhhEFu"
      },
      "source": [
        "## **Scatterplot entre las variables student_rating y avg_tutor_response_time**"
      ]
    },
    {
      "cell_type": "markdown",
      "metadata": {
        "id": "24eDZIaGTyXl",
        "colab_type": "text"
      },
      "source": [
        "\n",
        "El gráfico de dispersión o scatterplot permite verificar si existe o no correlación entre las variables student_rating (puntaje asignado a los tutores) y avg_tutor_response_time (tiempo promedio de respuesta del tutor).\n"
      ]
    },
    {
      "cell_type": "code",
      "metadata": {
        "colab_type": "code",
        "id": "9jV3789J-q-7",
        "colab": {
          "base_uri": "https://localhost:8080/",
          "height": 429
        },
        "outputId": "b51477a6-2584-4700-d672-8bbfe425cee3"
      },
      "source": [
        "plt.figure(figsize=(12,6))  \n",
        "\n",
        "seaborn.scatterplot(x=df_graficos.student_rating.astype(float), y=df_graficos.avg_tutor_response_time.astype(float)) \n",
        "plt.title('¿Existe relación entre el puntaje asignado a los tutores\\n  y el tiempo promedio de respuesta del tutor?',fontsize=16, weight=\"bold\")\n",
        "plt.xlabel('Puntaje asignado al tutor', fontsize=15)\n",
        "plt.ylabel('Tiempo promedio de respuesta del tutor (min)', fontsize=15)\n",
        "plt.xlim([0.5, 5.5])\n",
        "plt.ylim([0, 60])\n",
        "plt.show()            "
      ],
      "execution_count": null,
      "outputs": [
        {
          "output_type": "display_data",
          "data": {
            "image/png": "[encoded data removed]",
            "text/plain": [
              "<Figure size 864x432 with 1 Axes>"
            ]
          },
          "metadata": {
            "tags": [],
            "needs_background": "light"
          }
        }
      ]
    },
    {
      "cell_type": "markdown",
      "metadata": {
        "id": "8nmn1eicWfzi",
        "colab_type": "text"
      },
      "source": [
        "Luego de observar el gráfico obtenido, se aprecian puntos dispersos que no siguen ningún patrón y se evidencia que no existe correlación entre ambas variables, esto además se verificará en el punto 5 con el cálculo del coeficiente de Spearman."
      ]
    },
    {
      "cell_type": "markdown",
      "metadata": {
        "id": "k-f6qP4rNyLE",
        "colab_type": "text"
      },
      "source": [
        "## **Scatterplot entre las variables student_rating y feedback_score**"
      ]
    },
    {
      "cell_type": "markdown",
      "metadata": {
        "id": "EM1Enp36T_kq",
        "colab_type": "text"
      },
      "source": [
        "\n",
        "El gráfico de dispersión o scatterplot permite verificar si existe o no correlación entre las variables student_rating (puntaje asignado a los tutores) y feedback_score (feedback de la sesión)."
      ]
    },
    {
      "cell_type": "code",
      "metadata": {
        "id": "OBq0pOI8ODAM",
        "colab_type": "code",
        "colab": {
          "base_uri": "https://localhost:8080/",
          "height": 431
        },
        "outputId": "29eb273e-4bff-448a-a473-dbf109b601ce"
      },
      "source": [
        "plt.figure(figsize=(12,6))  \n",
        "seaborn.scatterplot(x=df_graficos.student_rating, y=df_graficos.feedback_score) \n",
        "plt.title('¿Existe relación entre el puntaje asignado a los tutores\\n  y el feedback asignado a la sesión?',fontsize=16, weight=\"bold\")\n",
        "plt.xlabel('Puntaje asignado al tutor', fontsize=15)\n",
        "plt.ylabel('Puntaje de la sesión (escala entre 0 y 1)', fontsize=15)\n",
        "plt.xlim([0.5, 6])\n",
        "plt.show() "
      ],
      "execution_count": null,
      "outputs": [
        {
          "output_type": "display_data",
          "data": {
            "image/png": "[encoded data removed]",
            "text/plain": [
              "<Figure size 864x432 with 1 Axes>"
            ]
          },
          "metadata": {
            "tags": [],
            "needs_background": "light"
          }
        }
      ]
    },
    {
      "cell_type": "markdown",
      "metadata": {
        "id": "wn8nn6-gVdLm",
        "colab_type": "text"
      },
      "source": [
        "Luego de observar el gráfico obtenido, se evidencia que no existe correlación  entre el puntaje asignado al tutor y el feedback de la sesión, esto además se verificará en el punto 5 con el cálculo del coeficiente de Spearman.\n"
      ]
    },
    {
      "cell_type": "markdown",
      "metadata": {
        "colab_type": "text",
        "id": "5WUIJfXb8vqA"
      },
      "source": [
        "\n",
        "\n",
        "\n",
        "## **Gráfico pairplot entre student_rating y las variables wait_time, avg_tutor_response_time y feedback_score.**"
      ]
    },
    {
      "cell_type": "markdown",
      "metadata": {
        "id": "Xspfof6603uc",
        "colab_type": "text"
      },
      "source": [
        "Por último, se utilizará un gráfico del tipo pairplot,  el cual permitirá observar de manera rápida las relaciones entre las variables del dataframe  `df_pairplot`, descripto a continuación."
      ]
    },
    {
      "cell_type": "code",
      "metadata": {
        "colab_type": "code",
        "id": "Y7kQpNXCtai5",
        "colab": {
          "base_uri": "https://localhost:8080/",
          "height": 764
        },
        "outputId": "fba5abba-9202-4875-be7f-0cb39afd25a6"
      },
      "source": [
        "df_pairplot = df_graficos.loc[:, ['student_rating', 'wait_time', 'avg_tutor_response_time', 'feedback_score']]\n",
        "plt.figure(figsize=(12,7))\n",
        "seaborn.pairplot(data= df_pairplot)\n",
        "plt.ylim([0.5, 180])\n",
        "plt.show()"
      ],
      "execution_count": null,
      "outputs": [
        {
          "output_type": "display_data",
          "data": {
            "text/plain": [
              "<Figure size 864x504 with 0 Axes>"
            ]
          },
          "metadata": {
            "tags": []
          }
        },
        {
          "output_type": "display_data",
          "data": {
            "image/png": "[encoded data removed]",
            "text/plain": [
              "<Figure size 720x720 with 20 Axes>"
            ]
          },
          "metadata": {
            "tags": [],
            "needs_background": "light"
          }
        }
      ]
    },
    {
      "cell_type": "markdown",
      "metadata": {
        "id": "2Ex86Mip3YKy",
        "colab_type": "text"
      },
      "source": [
        "En el pairplot se observa cómo se grafican por cada par de valores, un histograma y un gráfico de dispersión. Este ayuda a verificar los hallazgos encontrados en los gráficos anteriores, respecto a que no existe una relación los suficientemente fuerte entre `el puntaje asignado al tutor` y las variables analizadas que permita afirmar que alguna de ellas influye sobre dicho puntaje. "
      ]
    },
    {
      "cell_type": "markdown",
      "metadata": {
        "colab_type": "text",
        "id": "ukjRvV7y-t9M"
      },
      "source": [
        " ## **5.Cálculo de coeficientes de correlación utilizando el método de Spearman**\n"
      ]
    },
    {
      "cell_type": "markdown",
      "metadata": {
        "id": "if7cWcLUXBre",
        "colab_type": "text"
      },
      "source": [
        "En este punto, mediante el cálculo del coeficiente de correlación se verificarán los hallazgos encontrados en el punto 4."
      ]
    },
    {
      "cell_type": "code",
      "metadata": {
        "colab_type": "code",
        "id": "s09GA22A15Ra",
        "colab": {}
      },
      "source": [
        "from scipy.stats import spearmanr"
      ],
      "execution_count": null,
      "outputs": []
    },
    {
      "cell_type": "code",
      "metadata": {
        "colab_type": "code",
        "id": "GVv1VMnmu39Z",
        "colab": {}
      },
      "source": [
        "dfspearman = df[[\"student_rating\", \"wait_time\", \"feedback_score\", \"length_of_session\", \"avg_tutor_response_time\"]].dropna().sort_values('student_rating')\n"
      ],
      "execution_count": null,
      "outputs": []
    },
    {
      "cell_type": "markdown",
      "metadata": {
        "colab_type": "text",
        "id": "p_X-97ND-8_N"
      },
      "source": [
        "## **¿Existe correlación entre las variables student_rating y wait_time?** "
      ]
    },
    {
      "cell_type": "code",
      "metadata": {
        "colab_type": "code",
        "id": "6UveBsgy_XdF",
        "colab": {
          "base_uri": "https://localhost:8080/",
          "height": 34
        },
        "outputId": "1efe0c0b-bec7-4008-c9ac-e3120322ee9c"
      },
      "source": [
        "spearman_p2 = spearmanr(dfspearman['student_rating'],dfspearman['wait_time'])\n",
        "display(spearman_p2)"
      ],
      "execution_count": null,
      "outputs": [
        {
          "output_type": "display_data",
          "data": {
            "text/plain": [
              "SpearmanrResult(correlation=-0.005554422719821421, pvalue=0.23955038005708534)"
            ]
          },
          "metadata": {
            "tags": []
          }
        }
      ]
    },
    {
      "cell_type": "markdown",
      "metadata": {
        "id": "4_VoGdBsX3_P",
        "colab_type": "text"
      },
      "source": [
        "Con este resultado se confirma lo observado en el gráfico de regresión lineal, es decir, que no existe influencia de la variable `tiempo de espera` sobre el comportamiento del `puntaje asignado a los tutores`."
      ]
    },
    {
      "cell_type": "markdown",
      "metadata": {
        "colab_type": "text",
        "id": "1hptCb8r3hZC"
      },
      "source": [
        "##  **¿Existe correlación entre las variables student_rating y feedback_score?**"
      ]
    },
    {
      "cell_type": "code",
      "metadata": {
        "colab_type": "code",
        "id": "YUdZ64JT2HEr",
        "colab": {
          "base_uri": "https://localhost:8080/",
          "height": 34
        },
        "outputId": "2ed1ec15-2169-45c7-b12f-cab5b1806607"
      },
      "source": [
        "spearman_p = spearmanr(dfspearman['student_rating'],dfspearman['feedback_score'])\n",
        "display(spearman_p)"
      ],
      "execution_count": null,
      "outputs": [
        {
          "output_type": "display_data",
          "data": {
            "text/plain": [
              "SpearmanrResult(correlation=0.28743640456627073, pvalue=0.0)"
            ]
          },
          "metadata": {
            "tags": []
          }
        }
      ]
    },
    {
      "cell_type": "markdown",
      "metadata": {
        "id": "0xvhdFN9cubU",
        "colab_type": "text"
      },
      "source": [
        "El valor del coeficiente de correlación es bastante bajo, por lo que con este resultado se confirma lo observado en el gráfico de dispersión, es decir,  que no existe influencia de la variable `feedback de la sesión` sobre el `puntaje asignado a los tutores`."
      ]
    },
    {
      "cell_type": "markdown",
      "metadata": {
        "colab_type": "text",
        "id": "hor9ZjgeBMjA"
      },
      "source": [
        "## **¿Existe correlación entre las variables student_rating y avg_tutor_response_time?**"
      ]
    },
    {
      "cell_type": "code",
      "metadata": {
        "colab_type": "code",
        "id": "_fl6izNVBfVY",
        "colab": {
          "base_uri": "https://localhost:8080/",
          "height": 34
        },
        "outputId": "08f5e9d9-ebc4-4f91-e968-a3235ba22bb0"
      },
      "source": [
        "spearman_p4 = spearmanr(dfspearman['student_rating'],dfspearman['avg_tutor_response_time'])\n",
        "display(spearman_p4)"
      ],
      "execution_count": null,
      "outputs": [
        {
          "output_type": "display_data",
          "data": {
            "text/plain": [
              "SpearmanrResult(correlation=-0.08054335545485349, pvalue=2.016065258359058e-65)"
            ]
          },
          "metadata": {
            "tags": []
          }
        }
      ]
    },
    {
      "cell_type": "markdown",
      "metadata": {
        "id": "uB0Qu2nocMu2",
        "colab_type": "text"
      },
      "source": [
        "Con el anterior resultado se confirma lo observado en el gráfico de dispersión, es decir, que no existe influencia de la variable `tiempo promedio de respuesta del tutor` sobre el `puntaje asignado a los tutores`."
      ]
    },
    {
      "cell_type": "markdown",
      "metadata": {
        "colab_type": "text",
        "id": "eudrh98cOcRy"
      },
      "source": [
        "## **Conclusión.**\n",
        " Luego de verificar si existía alguna correlación entre `student_rating` y las variables` wait_time`, `avg_tutor_time_response` y `feedback_score`, mediante la visualización de dichas variables con distintos gráficos y el cálculo del coeficiente de Spearman, se puede afirmar que no se encontró evidencia que \n",
        "permita establecer alguna relación lo suficientemente fuerte entre el `puntaje asignado a los tutores` y las variables seleccionadas, que  indique influencia de algunas de ellas sobre el comportamiento de la variable `satisfacción del estudiante. `\n",
        "\n",
        " \n"
      ]
    }
  ]
}