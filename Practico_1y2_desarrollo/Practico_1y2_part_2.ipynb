{
  "nbformat": 4,
  "nbformat_minor": 0,
  "metadata": {
    "kernelspec": {
      "display_name": "Python 3.7.6 64-bit ('diplo': venv)",
      "name": "python37664bitdiplovenvc8f1cc3d26344ed08febef30f9915ee6"
    },
    "language_info": {
      "codemirror_mode": {
        "name": "ipython",
        "version": 3
      },
      "file_extension": ".py",
      "mimetype": "text/x-python",
      "name": "python",
      "nbconvert_exporter": "python",
      "pygments_lexer": "ipython3",
      "version": "3.7.6-final"
    },
    "colab": {
      "name": "Practico_1y2_part_2.ipynb",
      "provenance": [],
      "collapsed_sections": []
    }
  },
  "cells": [
    {
      "cell_type": "markdown",
      "metadata": {
        "id": "436At8pD0j5w",
        "colab_type": "text"
      },
      "source": [
        "# **Análisis, Visualización y Curación de Datos**\n",
        "\n",
        "# Consigna 2\n",
        "\n",
        "#### Determinar la cantidad de diálogos del dataset, cantidad de tutores, y cantidad de estudiantes. Luego, determinar cuántos turnos hay del tutor y cuántos del estudiante en total y en promedio por diálogo. Graficar la distribución.\n",
        "\n",
        "## Importación de modulos\n",
        "---"
      ]
    },
    {
      "cell_type": "code",
      "metadata": {
        "id": "bGHVG5AN0j5x",
        "colab_type": "code",
        "colab": {}
      },
      "source": [
        "import os\n",
        "import pandas as pd\n",
        "import numpy as np\n",
        "import matplotlib.pyplot as plt\n",
        "import seaborn as sns\n",
        "\n",
        "from columns_to_keep import C2K\n",
        "from type_to_fix import T2F"
      ],
      "execution_count": null,
      "outputs": []
    },
    {
      "cell_type": "markdown",
      "metadata": {
        "id": "-rPwfvSZ0j52",
        "colab_type": "text"
      },
      "source": [
        "## Carga de la tabla de metadata\n",
        "---"
      ]
    },
    {
      "cell_type": "code",
      "metadata": {
        "id": "qaJvAiiL0j52",
        "colab_type": "code",
        "colab": {},
        "outputId": "27338a2d-99f7-4783-cf10-869dd94db75a"
      },
      "source": [
        "data_dir = os.path.join('..', 'dataset')\n",
        "data_file_name = 'datadump-20150801-20171219.csv'\n",
        "full_data_file_name = os.path.join(data_dir, data_file_name)\n",
        "df = pd.read_csv(full_data_file_name)\n",
        "display(df.shape)"
      ],
      "execution_count": null,
      "outputs": [
        {
          "output_type": "display_data",
          "data": {
            "text/plain": [
              "(63265, 111)"
            ]
          },
          "metadata": {
            "tags": []
          }
        }
      ]
    },
    {
      "cell_type": "markdown",
      "metadata": {
        "id": "jhtz8KHP0j57",
        "colab_type": "text"
      },
      "source": [
        "## Preprocesamiento o curación de la metadata"
      ]
    },
    {
      "cell_type": "code",
      "metadata": {
        "id": "XWaJCeLW0j59",
        "colab_type": "code",
        "colab": {
          "base_uri": "https://localhost:8080/",
          "height": 34
        },
        "outputId": "e27a997b-75b8-47d1-a7a3-c5ea4404afb1"
      },
      "source": [
        "# Remuevo espacios al inicio y final del nombre de la columna\n",
        "df.columns = [column.strip() for column in df.columns]\n",
        "\n",
        "# Tomo solo las columnas que vamos a necesitar\n",
        "df = df[C2K]\n",
        "\n",
        "# Se corrigen los tipos de los datos \n",
        "df = df.astype(T2F)\n",
        "\n",
        "display(df.shape)"
      ],
      "execution_count": null,
      "outputs": [
        {
          "output_type": "display_data",
          "data": {
            "text/plain": [
              "(63265, 39)"
            ]
          },
          "metadata": {
            "tags": []
          }
        }
      ]
    },
    {
      "cell_type": "markdown",
      "metadata": {
        "id": "5vipD37j0j6C",
        "colab_type": "text"
      },
      "source": [
        "## Carga la tabla de mensajes preprocesados\n",
        "---"
      ]
    },
    {
      "cell_type": "markdown",
      "metadata": {
        "id": "xsOLz8g_Q6_c",
        "colab_type": "text"
      },
      "source": [
        "**Tamaño del dataset de train**"
      ]
    },
    {
      "cell_type": "code",
      "metadata": {
        "id": "OW8K2ZA10j6C",
        "colab_type": "code",
        "colab": {},
        "outputId": "ef8115dc-e307-4630-a659-3ce7c6c50be1"
      },
      "source": [
        "data_file_name = 'train_yup_messages_preprocessed.csv'\n",
        "full_data_file_name = os.path.join(data_dir, data_file_name)\n",
        "df_messages = pd.read_csv(full_data_file_name)\n",
        "print(\"El dataset de train con los mensajes preprocesados tiene\", df_messages.shape[0], \" filas y \", df_messages.shape[1], \" columnas\")"
      ],
      "execution_count": null,
      "outputs": [
        {
          "output_type": "display_data",
          "data": {
            "text/plain": [
              "(7441, 6)"
            ]
          },
          "metadata": {
            "tags": []
          }
        }
      ]
    },
    {
      "cell_type": "code",
      "metadata": {
        "id": "qFX2crSS5Gbu",
        "colab_type": "code",
        "colab": {
          "base_uri": "https://localhost:8080/",
          "height": 34
        },
        "outputId": "68657f03-9ebe-4099-ba39-d96c754683db"
      },
      "source": [
        "print(\"El dataset de train con los mensajes preprocesados tiene\", df_messages.shape[0], \" filas y \", df_messages.shape[1], \" columnas\")"
      ],
      "execution_count": null,
      "outputs": [
        {
          "output_type": "stream",
          "text": [
            "El dataset de train con los mensajes preprocesados tiene 1102917  filas y  6  columnas\n"
          ],
          "name": "stdout"
        }
      ]
    },
    {
      "cell_type": "markdown",
      "metadata": {
        "id": "4gaROZaT0j6G",
        "colab_type": "text"
      },
      "source": [
        "## Cálculos\n",
        "---\n",
        "A continuación, se calcula la cantidad de sensiones únicas del dataset de mensajes preprocesados y la cantidad de sesiones en el dataset de metadata, los mismos no coinciden ya que actualmente en el caso de los mensajes preprocesados se trabaja con el dataset de entrenamiento en lugar de trabajar con el dataset completo. Por lo que se opta por tomar como fuente el dataset de metadata para este propósito."
      ]
    },
    {
      "cell_type": "code",
      "metadata": {
        "id": "2cB1XaIV0j6G",
        "colab_type": "code",
        "colab": {
          "base_uri": "https://localhost:8080/",
          "height": 70
        },
        "outputId": "4ed4b2ff-9113-47a8-c321-70e1b28d3151"
      },
      "source": [
        "n_dialogos = df_messages.session_id.unique().shape[0]\n",
        "n_sessions = df.session_id.shape[0]\n",
        "n_tutors = df.tutor_id.unique().shape[0]\n",
        "n_students = df.student_id.unique().shape[0]\n",
        "\n",
        "display(f'>> El número de diálogos computados a partir del dataset de mensajes preprocesados es de {n_dialogos}, mientras que el número de diálogos computados a partir del archivo de metadata es: {n_sessions}.')\n",
        "display(f'>> Además la cantidad total de tutores es de {n_tutors} y la de estudiantes de {n_students}.')"
      ],
      "execution_count": null,
      "outputs": [
        {
          "output_type": "display_data",
          "data": {
            "application/vnd.google.colaboratory.intrinsic": {
              "type": "string"
            },
            "text/plain": [
              "'>> El número de diálogos computados a partir del dataset de mensajes preprocesados es de 17987, mientras que el número de diálogos computados a partir del archivo de metadata es: 63265.'"
            ]
          },
          "metadata": {
            "tags": []
          }
        },
        {
          "output_type": "display_data",
          "data": {
            "application/vnd.google.colaboratory.intrinsic": {
              "type": "string"
            },
            "text/plain": [
              "'>> Además la cantidad total de tutores es de 150 y la de estudiantes de .16808'"
            ]
          },
          "metadata": {
            "tags": []
          }
        }
      ]
    },
    {
      "cell_type": "markdown",
      "metadata": {
        "id": "qLvcDM0C0j6K",
        "colab_type": "text"
      },
      "source": [
        "### Cálculo del número de turnos de estudiantes y tutores por diálogo\n",
        "### Pasos:\n",
        "\n",
        "1. Se  calcula el número de turnos agrupados por `session_id` y `sent_from`\n",
        "2. Se descartan las filas que no son turnos del tutor ni del estudiante, es decir, que corresponden al bot. \n",
        "3. Se crea una nueva columna con el cálculo realizado. \n",
        "4. Se remueven las columnas no necesarias como el tipo de contenido y el texto del diálogo, etc. "
      ]
    },
    {
      "cell_type": "code",
      "metadata": {
        "tags": [],
        "id": "wQluCKyz0j6L",
        "colab_type": "code",
        "colab": {
          "base_uri": "https://localhost:8080/",
          "height": 435
        },
        "outputId": "157323a7-227f-4bd6-c4c9-8d20da2142ab"
      },
      "source": [
        "st_turnos_total= df_messages.groupby(['session_id']).count()\n",
        "print('El total de turnos es de ', st_turnos_total.shape[0], '.\\n')\n",
        "\n",
        "# 1.\n",
        "st_turnos = df_messages.groupby(['session_id','sent_from']).count().reset_index()\n",
        "\n",
        "# 2. Turnos solamente de tutores y estudiantes\n",
        "st_turnos = st_turnos[st_turnos.sent_from.isin(['student', 'tutor'])]\n",
        "\n",
        "# 3. \n",
        "st_turnos['counts'] = st_turnos['text']\n",
        "\n",
        "# 4.\n",
        "st_turnos.drop(columns=['created_at', 'sent_to', 'content_type', 'text'], inplace=True)\n",
        "display(st_turnos)"
      ],
      "execution_count": null,
      "outputs": [
        {
          "output_type": "stream",
          "text": [
            "El total de turnos es de  17987 .\n",
            "\n"
          ],
          "name": "stdout"
        },
        {
          "output_type": "display_data",
          "data": {
            "text/html": [
              "<div>\n",
              "<style scoped>\n",
              "    .dataframe tbody tr th:only-of-type {\n",
              "        vertical-align: middle;\n",
              "    }\n",
              "\n",
              "    .dataframe tbody tr th {\n",
              "        vertical-align: top;\n",
              "    }\n",
              "\n",
              "    .dataframe thead th {\n",
              "        text-align: right;\n",
              "    }\n",
              "</style>\n",
              "<table border=\"1\" class=\"dataframe\">\n",
              "  <thead>\n",
              "    <tr style=\"text-align: right;\">\n",
              "      <th></th>\n",
              "      <th>session_id</th>\n",
              "      <th>sent_from</th>\n",
              "      <th>counts</th>\n",
              "    </tr>\n",
              "  </thead>\n",
              "  <tbody>\n",
              "    <tr>\n",
              "      <th>0</th>\n",
              "      <td>299889</td>\n",
              "      <td>student</td>\n",
              "      <td>7</td>\n",
              "    </tr>\n",
              "    <tr>\n",
              "      <th>3</th>\n",
              "      <td>299889</td>\n",
              "      <td>tutor</td>\n",
              "      <td>13</td>\n",
              "    </tr>\n",
              "    <tr>\n",
              "      <th>4</th>\n",
              "      <td>299890</td>\n",
              "      <td>student</td>\n",
              "      <td>40</td>\n",
              "    </tr>\n",
              "    <tr>\n",
              "      <th>7</th>\n",
              "      <td>299890</td>\n",
              "      <td>tutor</td>\n",
              "      <td>44</td>\n",
              "    </tr>\n",
              "    <tr>\n",
              "      <th>8</th>\n",
              "      <td>299891</td>\n",
              "      <td>student</td>\n",
              "      <td>6</td>\n",
              "    </tr>\n",
              "    <tr>\n",
              "      <th>...</th>\n",
              "      <td>...</td>\n",
              "      <td>...</td>\n",
              "      <td>...</td>\n",
              "    </tr>\n",
              "    <tr>\n",
              "      <th>74145</th>\n",
              "      <td>326165</td>\n",
              "      <td>student</td>\n",
              "      <td>14</td>\n",
              "    </tr>\n",
              "    <tr>\n",
              "      <th>74146</th>\n",
              "      <td>326165</td>\n",
              "      <td>tutor</td>\n",
              "      <td>11</td>\n",
              "    </tr>\n",
              "    <tr>\n",
              "      <th>74148</th>\n",
              "      <td>326166</td>\n",
              "      <td>student</td>\n",
              "      <td>5</td>\n",
              "    </tr>\n",
              "    <tr>\n",
              "      <th>74150</th>\n",
              "      <td>326166</td>\n",
              "      <td>tutor</td>\n",
              "      <td>9</td>\n",
              "    </tr>\n",
              "    <tr>\n",
              "      <th>74151</th>\n",
              "      <td>326167</td>\n",
              "      <td>student</td>\n",
              "      <td>1</td>\n",
              "    </tr>\n",
              "  </tbody>\n",
              "</table>\n",
              "<p>33328 rows × 3 columns</p>\n",
              "</div>"
            ],
            "text/plain": [
              "       session_id sent_from  counts\n",
              "0          299889   student       7\n",
              "3          299889     tutor      13\n",
              "4          299890   student      40\n",
              "7          299890     tutor      44\n",
              "8          299891   student       6\n",
              "...           ...       ...     ...\n",
              "74145      326165   student      14\n",
              "74146      326165     tutor      11\n",
              "74148      326166   student       5\n",
              "74150      326166     tutor       9\n",
              "74151      326167   student       1\n",
              "\n",
              "[33328 rows x 3 columns]"
            ]
          },
          "metadata": {
            "tags": []
          }
        }
      ]
    },
    {
      "cell_type": "markdown",
      "metadata": {
        "id": "_RWRBFZU0j6Q",
        "colab_type": "text"
      },
      "source": [
        "### Cálculo del número total de turnos por diálogo\n",
        "\n",
        "### Pasos:\n",
        "\n",
        "5. Agrupar 'st_turnos' por `session_id` y luego se suman las coincidencias.  "
      ]
    },
    {
      "cell_type": "code",
      "metadata": {
        "id": "x80723Po0j6Q",
        "colab_type": "code",
        "colab": {
          "base_uri": "https://localhost:8080/",
          "height": 431
        },
        "outputId": "83009e34-8335-45a9-f271-43e33eb446b7"
      },
      "source": [
        "# 5.\n",
        "turnos = st_turnos.groupby('session_id').sum()\n",
        "display(turnos)"
      ],
      "execution_count": null,
      "outputs": [
        {
          "output_type": "display_data",
          "data": {
            "text/html": [
              "<div>\n",
              "<style scoped>\n",
              "    .dataframe tbody tr th:only-of-type {\n",
              "        vertical-align: middle;\n",
              "    }\n",
              "\n",
              "    .dataframe tbody tr th {\n",
              "        vertical-align: top;\n",
              "    }\n",
              "\n",
              "    .dataframe thead th {\n",
              "        text-align: right;\n",
              "    }\n",
              "</style>\n",
              "<table border=\"1\" class=\"dataframe\">\n",
              "  <thead>\n",
              "    <tr style=\"text-align: right;\">\n",
              "      <th></th>\n",
              "      <th>counts</th>\n",
              "    </tr>\n",
              "    <tr>\n",
              "      <th>session_id</th>\n",
              "      <th></th>\n",
              "    </tr>\n",
              "  </thead>\n",
              "  <tbody>\n",
              "    <tr>\n",
              "      <th>299889</th>\n",
              "      <td>20</td>\n",
              "    </tr>\n",
              "    <tr>\n",
              "      <th>299890</th>\n",
              "      <td>84</td>\n",
              "    </tr>\n",
              "    <tr>\n",
              "      <th>299891</th>\n",
              "      <td>9</td>\n",
              "    </tr>\n",
              "    <tr>\n",
              "      <th>299892</th>\n",
              "      <td>49</td>\n",
              "    </tr>\n",
              "    <tr>\n",
              "      <th>299893</th>\n",
              "      <td>36</td>\n",
              "    </tr>\n",
              "    <tr>\n",
              "      <th>...</th>\n",
              "      <td>...</td>\n",
              "    </tr>\n",
              "    <tr>\n",
              "      <th>326161</th>\n",
              "      <td>14</td>\n",
              "    </tr>\n",
              "    <tr>\n",
              "      <th>326163</th>\n",
              "      <td>42</td>\n",
              "    </tr>\n",
              "    <tr>\n",
              "      <th>326165</th>\n",
              "      <td>25</td>\n",
              "    </tr>\n",
              "    <tr>\n",
              "      <th>326166</th>\n",
              "      <td>14</td>\n",
              "    </tr>\n",
              "    <tr>\n",
              "      <th>326167</th>\n",
              "      <td>1</td>\n",
              "    </tr>\n",
              "  </tbody>\n",
              "</table>\n",
              "<p>17938 rows × 1 columns</p>\n",
              "</div>"
            ],
            "text/plain": [
              "            counts\n",
              "session_id        \n",
              "299889          20\n",
              "299890          84\n",
              "299891           9\n",
              "299892          49\n",
              "299893          36\n",
              "...            ...\n",
              "326161          14\n",
              "326163          42\n",
              "326165          25\n",
              "326166          14\n",
              "326167           1\n",
              "\n",
              "[17938 rows x 1 columns]"
            ]
          },
          "metadata": {
            "tags": []
          }
        }
      ]
    },
    {
      "cell_type": "markdown",
      "metadata": {
        "id": "3odYxS9n0j6U",
        "colab_type": "text"
      },
      "source": [
        "### Cálculo del promedio de turnos\n",
        "\n",
        "1. Se calcula el promedio de turnos discriminado por tutor y estudiante.\n",
        "2. Por último, se calcula el promedio total de turnos."
      ]
    },
    {
      "cell_type": "code",
      "metadata": {
        "id": "dvgPzYVR0j6U",
        "colab_type": "code",
        "colab": {
          "base_uri": "https://localhost:8080/",
          "height": 211
        },
        "outputId": "9212009c-4c2a-4a0a-a967-ffde00f795fa"
      },
      "source": [
        "# 1.\n",
        "mean_disc = st_turnos.groupby('sent_from').mean().drop(columns='session_id')\n",
        "mean_tutors = mean_disc.loc['tutor','counts']\n",
        "mean_students = mean_disc.loc['student','counts']\n",
        "# se calcula la mediana sólo para conocer un poco más de la distribución\n",
        "mediana_disc = st_turnos.groupby('sent_from').median().drop(columns='session_id')\n",
        "print('Mediana de turnos','\\n')\n",
        "print(mediana_disc)\n",
        "\n",
        "# 2. promedio total\n",
        "# mean_total = turnos.counts.mean()\n",
        "mean_total = mean_tutors + mean_students\n",
        "\n",
        "print(f'\\nEl Promedio de turnos por tutores de {mean_tutors: .2f}, mientras que el Promedio de turnos por estudiantes es de {mean_students: .2f}')\n",
        "display(f'>> Promedio total de turnos entre estudiantes y tutores es de {mean_total:.2f}')\n"
      ],
      "execution_count": null,
      "outputs": [
        {
          "output_type": "stream",
          "text": [
            "Mediana de turnos \n",
            "\n",
            "           counts\n",
            "sent_from        \n",
            "student      14.0\n",
            "tutor        21.0\n",
            "\n",
            "El Promedio de turnos por tutores de  36.22, mientras que el Promedio de turnos por estudiantes es de  23.85\n"
          ],
          "name": "stdout"
        },
        {
          "output_type": "display_data",
          "data": {
            "application/vnd.google.colaboratory.intrinsic": {
              "type": "string"
            },
            "text/plain": [
              "'>> Promedio total de turnos entre estudiantes y tutores es de 60.07'"
            ]
          },
          "metadata": {
            "tags": []
          }
        }
      ]
    },
    {
      "cell_type": "markdown",
      "metadata": {
        "id": "FLihS5gz0j6X",
        "colab_type": "text"
      },
      "source": [
        "### Histograma del nro. total de turnos por diálogo\n",
        "\n",
        "$$\n",
        "Nt_{total} = Nt_{tutors} + Nt_{students}\n",
        "$$\n",
        "\n",
        "donde $Nt$ es el número total de turnos por diálogo, teniendo en cuenta los turnos por tutor y por estudiantes."
      ]
    },
    {
      "cell_type": "code",
      "metadata": {
        "id": "U89AbQ4_0j6Y",
        "colab_type": "code",
        "colab": {
          "base_uri": "https://localhost:8080/",
          "height": 414
        },
        "outputId": "6713ebe6-6804-4435-e30f-f0ecde43b0f6"
      },
      "source": [
        "plt.figure(figsize=(12,6))\n",
        "plt.plot([mean_total, mean_total], [0,9000], '--r', linewidth=3, label=f'Promedio {mean_total:.2f}')\n",
        "sns.distplot(turnos.counts.dropna(), kde=False, label=r'$Nt_{total} = Nt_{tutors} + Nt_{students}$',color='#A81105' )\n",
        "plt.grid(True)\n",
        "plt.title(\"Distribución del nro. de turnos por diálogo\", fontsize=14)\n",
        "plt.xlabel(r'$Nt$', fontsize=14)\n",
        "plt.ylabel('Cuenta', fontsize=14)\n",
        "plt.xticks(fontsize=14)\n",
        "plt.yticks(fontsize=14)\n",
        "plt.legend(fontsize=14)\n",
        "plt.xlim([0,700])\n",
        "plt.ylim([0, 9000])\n",
        "sns.despine()"
      ],
      "execution_count": null,
      "outputs": [
        {
          "output_type": "display_data",
          "data": {
            "image/png": "[encoded data removed]",
            "text/plain": [
              "<Figure size 864x432 with 1 Axes>"
            ]
          },
          "metadata": {
            "tags": [],
            "needs_background": "light"
          }
        }
      ]
    },
    {
      "cell_type": "markdown",
      "metadata": {
        "id": "dcMWxGN-rsmk",
        "colab_type": "text"
      },
      "source": [
        "En el anterior histograma se puede observar que la frecuencia disminuye a medida que aumenta el nro. de turnos y que los valores máximos se concentran a la izquierda del histograma. Además, se puede afirmar que predominan los diálogos cortos. "
      ]
    },
    {
      "cell_type": "markdown",
      "metadata": {
        "id": "5n94bq4w0j6b",
        "colab_type": "text"
      },
      "source": [
        "### Histograma de turnos discriminado por estudiantes y tutores"
      ]
    },
    {
      "cell_type": "code",
      "metadata": {
        "id": "3Mt0w2JM0j6c",
        "colab_type": "code",
        "colab": {
          "base_uri": "https://localhost:8080/",
          "height": 414
        },
        "outputId": "5135dd61-025c-4ead-c757-a1d27407707e"
      },
      "source": [
        "plt.figure(figsize=(12,6))\n",
        "sns.distplot(st_turnos[st_turnos.sent_from=='tutor'].counts.dropna(), kde=False, label=r'$Nt_{tutors}$', color='blue') #kde=False,\n",
        "sns.distplot(st_turnos[st_turnos.sent_from=='student'].counts.dropna(), kde=False, label=r'$Nt_{students}$', color='orange')\n",
        "plt.plot([mean_tutors, mean_tutors], [0,7050], '--b', linewidth=3, label=f'Promedio t por tutor {mean_tutors:.2f}', color='steelblue')\n",
        "plt.plot([mean_students, mean_students], [0,7050], '--g', linewidth=3, label=f'Promedio t por estudiante {mean_students:.2f}', color='orange')\n",
        "plt.grid(True)\n",
        "plt.title(\"Distribución del total de turnos por tutor y por estudiante\", fontsize=14)\n",
        "plt.xlabel(r'$Nt$', fontsize=14)\n",
        "plt.ylabel('Cuenta', fontsize=14)\n",
        "plt.xticks(fontsize=14)\n",
        "plt.yticks(fontsize=14)\n",
        "plt.legend(fontsize=14)\n",
        "plt.xlim([0,350])\n",
        "#plt.ylim([0, 55])\n",
        "sns.despine()"
      ],
      "execution_count": null,
      "outputs": [
        {
          "output_type": "display_data",
          "data": {
            "image/png": "[encoded data removed]",
            "text/plain": [
              "<Figure size 864x432 with 1 Axes>"
            ]
          },
          "metadata": {
            "tags": [],
            "needs_background": "light"
          }
        }
      ]
    },
    {
      "cell_type": "markdown",
      "metadata": {
        "id": "2PLTqufqrhcX",
        "colab_type": "text"
      },
      "source": [
        "En el anterior histograma se evidencia que el promedio del nro. de turnos del tutor es mayor que el del estudiante, existiendo una diferencia de aprox. 12 turnos. Sin embargo, se evidencia en ambos histogramas que los valores máximo se presentan en un extremo del mismo y que la distribución es inversa ya que a medida que aumenta el nro. de turnos por diálogo disminuye la frecuencia de los mismos.\n",
        "\n",
        "\n"
      ]
    },
    {
      "cell_type": "markdown",
      "metadata": {
        "id": "lNFIxVdz0j6f",
        "colab_type": "text"
      },
      "source": [
        "## Conclusión\n",
        "\n",
        "\n",
        "* Un diálogo entre un tutor y un estudiante está formado aproximadamente por un promedio de 60 turnos.\n",
        "* Los casos con más de 200 turnos son poco probales de acuerdo a los cálculos y el histograma gráficado.\n",
        "\n",
        "Un aspecto de interés es la cantidad total de turnos discriminada entre estudiantes y tutores. Esto permite comparar la proporcion de participación de de ambos en el desarrollo de un diálogo, evidenciándose, en términos generales, que existe mayor participación del tutor en los diálogos."
      ]
    }
  ]
}